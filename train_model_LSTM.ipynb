{
 "cells": [
  {
   "cell_type": "code",
   "execution_count": 4,
   "metadata": {},
   "outputs": [],
   "source": [
    "import tensorflow\n",
    "import keras\n",
    "import os\n",
    "import pandas as pd\n",
    "import h5py\n",
    "from sklearn.model_selection import train_test_split\n",
    "from sklearn.metrics import roc_auc_score\n",
    "from sklearn.metrics import accuracy_score\n",
    "import numpy as np\n",
    "from keras.optimizers import SGD\n",
    "from keras.utils import np_utils\n",
    "from keras.models import Sequential\n",
    "from keras.layers.core import Dense, Activation\n",
    "from keras.layers.recurrent import LSTM\n",
    "from keras.layers import Dropout\n",
    "from keras.callbacks import EarlyStopping\n",
    "from keras.layers import Bidirectional\n",
    "from sklearn.model_selection import KFold"
   ]
  },
  {
   "cell_type": "markdown",
   "metadata": {},
   "source": [
    "### Load the dataset"
   ]
  },
  {
   "cell_type": "code",
   "execution_count": 5,
   "metadata": {},
   "outputs": [
    {
     "name": "stdout",
     "output_type": "stream",
     "text": [
      "/home/qls/deep-learning-pd/code\n"
     ]
    }
   ],
   "source": [
    "path = os.getcwd()\n",
    "print(path)\n",
    "filename = '/encoding_LSTM_chunks20.h5'"
   ]
  },
  {
   "cell_type": "code",
   "execution_count": 6,
   "metadata": {},
   "outputs": [
    {
     "name": "stdout",
     "output_type": "stream",
     "text": [
      "Target shape (16723,)\n",
      "Train shape (16723, 20, 3)\n"
     ]
    }
   ],
   "source": [
    "h5f = h5py.File(path + filename,'r')\n",
    "X_train = h5f['train'][:]\n",
    "Y_train = h5f['target'][:]\n",
    "h5f.close()\n",
    "\n",
    "print('Target shape', Y_train.shape)\n",
    "print('Train shape', X_train.shape)"
   ]
  },
  {
   "cell_type": "markdown",
   "metadata": {},
   "source": [
    "### Modify features"
   ]
  },
  {
   "cell_type": "code",
   "execution_count": 7,
   "metadata": {},
   "outputs": [],
   "source": [
    "# remove hold time\n",
    "# X_train = X_train[:,:,1:]\n",
    "\n",
    "# leave only hold time\n",
    "# X_train = X_train[:,:,:1]"
   ]
  },
  {
   "cell_type": "markdown",
   "metadata": {},
   "source": [
    "### Split to train and test"
   ]
  },
  {
   "cell_type": "code",
   "execution_count": 8,
   "metadata": {},
   "outputs": [],
   "source": [
    "X_train, X_test, Y_train, Y_test = train_test_split(X_train, Y_train, test_size=0.1, random_state=15)"
   ]
  },
  {
   "cell_type": "code",
   "execution_count": 9,
   "metadata": {},
   "outputs": [
    {
     "data": {
      "text/plain": [
       "array([[6., 4., 3.],\n",
       "       [6., 4., 4.],\n",
       "       [5., 5., 5.],\n",
       "       [3., 3., 5.],\n",
       "       [6., 3., 6.],\n",
       "       [4., 5., 4.],\n",
       "       [3., 6., 3.],\n",
       "       [5., 6., 3.],\n",
       "       [6., 4., 5.],\n",
       "       [4., 3., 6.],\n",
       "       [5., 3., 6.],\n",
       "       [5., 5., 3.],\n",
       "       [3., 3., 6.],\n",
       "       [4., 5., 3.],\n",
       "       [6., 5., 5.],\n",
       "       [3., 3., 3.],\n",
       "       [6., 4., 4.],\n",
       "       [3., 6., 4.],\n",
       "       [3., 6., 5.],\n",
       "       [3., 5., 3.]])"
      ]
     },
     "execution_count": 9,
     "metadata": {},
     "output_type": "execute_result"
    }
   ],
   "source": [
    "X_train[0]"
   ]
  },
  {
   "cell_type": "markdown",
   "metadata": {},
   "source": [
    "### Build model"
   ]
  },
  {
   "cell_type": "code",
   "execution_count": 10,
   "metadata": {},
   "outputs": [
    {
     "name": "stdout",
     "output_type": "stream",
     "text": [
      "Build model...\n",
      "_________________________________________________________________\n",
      "Layer (type)                 Output Shape              Param #   \n",
      "=================================================================\n",
      "bidirectional_1 (Bidirection (None, 100)               21600     \n",
      "_________________________________________________________________\n",
      "dense_1 (Dense)              (None, 16)                1616      \n",
      "_________________________________________________________________\n",
      "activation_1 (Activation)    (None, 16)                0         \n",
      "_________________________________________________________________\n",
      "dense_2 (Dense)              (None, 1)                 17        \n",
      "_________________________________________________________________\n",
      "activation_2 (Activation)    (None, 1)                 0         \n",
      "=================================================================\n",
      "Total params: 23,233\n",
      "Trainable params: 23,233\n",
      "Non-trainable params: 0\n",
      "_________________________________________________________________\n",
      "Train...\n",
      "Epoch 1/10\n",
      "15050/15050 [==============================] - 18s 1ms/step - loss: 0.6942 - binary_accuracy: 0.5086\n",
      "Epoch 2/10\n",
      "15050/15050 [==============================] - 17s 1ms/step - loss: 0.6929 - binary_accuracy: 0.5148\n",
      "Epoch 3/10\n",
      "15050/15050 [==============================] - 17s 1ms/step - loss: 0.6927 - binary_accuracy: 0.5170\n",
      "Epoch 00003: early stopping\n"
     ]
    }
   ],
   "source": [
    "np.random.seed(14)  # fix the random numbers generator state\n",
    "\n",
    "batch_size = 16\n",
    "hidden_units = 50\n",
    "input_shape = X_train.shape[1:]\n",
    "nb_epochs = 10\n",
    "nb_classes = 1\n",
    "dropout = 0.05\n",
    "early_stopping = EarlyStopping(monitor='loss', min_delta=0.01, patience=2, verbose=1)\n",
    "print('Build model...')\n",
    "\n",
    "# sgd = SGD(lr=0.1, decay=1e-6, momentum=0.9, nesterov=True)\n",
    "\n",
    "model = Sequential()\n",
    "model.add(Bidirectional(LSTM(units=hidden_units, kernel_initializer='uniform', recurrent_initializer='uniform', \n",
    "               dropout=dropout, use_bias=True, unit_forget_bias=True, activation='tanh', recurrent_activation='sigmoid', \n",
    "               input_shape=input_shape), input_shape=input_shape, merge_mode='concat'))\n",
    "\n",
    "model.add(Dense(16))\n",
    "model.add(Activation('linear'))\n",
    "\n",
    "model.add(Dense(nb_classes))\n",
    "model.add(Activation('sigmoid'))\n",
    "\n",
    "model.summary()\n",
    "\n",
    "model.compile(loss='binary_crossentropy', metrics=['binary_accuracy'], optimizer='adam')\n",
    "\n",
    "print(\"Train...\")\n",
    "history = model.fit(X_train, Y_train, batch_size=batch_size, epochs=nb_epochs, verbose=1, callbacks=[early_stopping])"
   ]
  },
  {
   "cell_type": "markdown",
   "metadata": {},
   "source": [
    "### Test the model performance"
   ]
  },
  {
   "cell_type": "code",
   "execution_count": 11,
   "metadata": {},
   "outputs": [
    {
     "name": "stdout",
     "output_type": "stream",
     "text": [
      "1673/1673 [==============================] - 1s 374us/step\n"
     ]
    }
   ],
   "source": [
    "# Y_pred = model.predict(X_test)\n",
    "metr = model.evaluate(X_test, Y_test)"
   ]
  },
  {
   "cell_type": "code",
   "execution_count": 17,
   "metadata": {},
   "outputs": [
    {
     "name": "stdout",
     "output_type": "stream",
     "text": [
      "[[0.48663464]\n",
      " [0.48654884]\n",
      " [0.48658192]\n",
      " ...\n",
      " [0.48295724]\n",
      " [0.47510287]\n",
      " [0.48661962]]\n",
      "1673\n",
      "AUC 0.4702015437392796\n",
      "[[0.48663464]\n",
      " [0.48654884]\n",
      " [0.48658192]\n",
      " ...\n",
      " [0.48295724]\n",
      " [0.47510287]\n",
      " [0.48661962]]\n",
      "1673\n",
      "Accuracy 0.5068738792588166\n"
     ]
    }
   ],
   "source": [
    "Y_pred = model.predict_proba(X_test)\n",
    "print(Y_pred)\n",
    "print(len(Y_pred))\n",
    "print('AUC', roc_auc_score(Y_test, Y_pred))\n",
    "\n",
    "Y_pred = model.predict(X_test)\n",
    "print(Y_pred)\n",
    "print(len(Y_pred))\n",
    "print('Accuracy', accuracy_score(Y_test, np.round(Y_pred)))"
   ]
  },
  {
   "cell_type": "code",
   "execution_count": 20,
   "metadata": {},
   "outputs": [
    {
     "name": "stdout",
     "output_type": "stream",
     "text": [
      "(1673, 1)\n",
      "[[0.48663464 0.48654884 0.48658192 ... 0.48295724 0.47510287 0.48661962]]\n"
     ]
    }
   ],
   "source": [
    "Y_pred = model.predict_proba(X_test)\n",
    "print(Y_pred.shape)\n",
    "Y_pred.transpose()\n",
    "print(Y_pred.transpose())"
   ]
  },
  {
   "cell_type": "code",
   "execution_count": 22,
   "metadata": {},
   "outputs": [
    {
     "data": {
      "text/plain": [
       "(array([1, 0, 1, ..., 0, 1, 1]),\n",
       " array([[0., 0., 0., ..., 0., 0., 0.]], dtype=float32))"
      ]
     },
     "execution_count": 22,
     "metadata": {},
     "output_type": "execute_result"
    }
   ],
   "source": [
    "Y_test, np.round(Y_pred).T"
   ]
  },
  {
   "cell_type": "markdown",
   "metadata": {},
   "source": [
    "### 10-fold cross-validation"
   ]
  },
  {
   "cell_type": "code",
   "execution_count": 25,
   "metadata": {
    "scrolled": true
   },
   "outputs": [
    {
     "name": "stdout",
     "output_type": "stream",
     "text": [
      "Build model...\n",
      "Train indices: [    0     1     3 ... 15047 15048 15049]\n",
      "Test indices: [    2    12    21 ... 15026 15029 15039]\n",
      "_________________________________________________________________\n",
      "Layer (type)                 Output Shape              Param #   \n",
      "=================================================================\n",
      "lstm_5 (LSTM)                (None, 50)                10800     \n",
      "_________________________________________________________________\n",
      "dense_9 (Dense)              (None, 16)                816       \n",
      "_________________________________________________________________\n",
      "activation_9 (Activation)    (None, 16)                0         \n",
      "_________________________________________________________________\n",
      "dense_10 (Dense)             (None, 1)                 17        \n",
      "_________________________________________________________________\n",
      "activation_10 (Activation)   (None, 1)                 0         \n",
      "=================================================================\n",
      "Total params: 11,633\n",
      "Trainable params: 11,633\n",
      "Non-trainable params: 0\n",
      "_________________________________________________________________\n",
      "Train...\n",
      "Train on 11513 samples, validate on 2032 samples\n",
      "Epoch 1/20\n",
      "11513/11513 [==============================] - 14s 1ms/step - loss: 0.6943 - binary_accuracy: 0.5062 - val_loss: 0.6945 - val_binary_accuracy: 0.5217\n",
      "Epoch 2/20\n",
      "11513/11513 [==============================] - 13s 1ms/step - loss: 0.6937 - binary_accuracy: 0.5073 - val_loss: 0.6925 - val_binary_accuracy: 0.5217\n",
      "Epoch 3/20\n",
      "11513/11513 [==============================] - 12s 1ms/step - loss: 0.6931 - binary_accuracy: 0.5095 - val_loss: 0.6926 - val_binary_accuracy: 0.5251\n",
      "Epoch 4/20\n",
      "11513/11513 [==============================] - 13s 1ms/step - loss: 0.6861 - binary_accuracy: 0.5330 - val_loss: 0.6675 - val_binary_accuracy: 0.5669\n",
      "Epoch 5/20\n",
      "11513/11513 [==============================] - 12s 1ms/step - loss: 0.6697 - binary_accuracy: 0.5540 - val_loss: 0.6609 - val_binary_accuracy: 0.5438\n",
      "Epoch 6/20\n",
      "11513/11513 [==============================] - 12s 1ms/step - loss: 0.6684 - binary_accuracy: 0.5532 - val_loss: 0.6639 - val_binary_accuracy: 0.5723\n",
      "Epoch 7/20\n",
      "11513/11513 [==============================] - 13s 1ms/step - loss: 0.6703 - binary_accuracy: 0.5544 - val_loss: 0.6595 - val_binary_accuracy: 0.5694\n",
      "Epoch 00007: early stopping\n",
      "Accuracy is 0.5926910299003322\n",
      "AUC is 0.6112904774265121\n",
      "Train indices: [    0     1     2 ... 15047 15048 15049]\n",
      "Test indices: [    5     8    15 ... 15024 15038 15043]\n",
      "_________________________________________________________________\n",
      "Layer (type)                 Output Shape              Param #   \n",
      "=================================================================\n",
      "lstm_6 (LSTM)                (None, 50)                10800     \n",
      "_________________________________________________________________\n",
      "dense_11 (Dense)             (None, 16)                816       \n",
      "_________________________________________________________________\n",
      "activation_11 (Activation)   (None, 16)                0         \n",
      "_________________________________________________________________\n",
      "dense_12 (Dense)             (None, 1)                 17        \n",
      "_________________________________________________________________\n",
      "activation_12 (Activation)   (None, 1)                 0         \n",
      "=================================================================\n",
      "Total params: 11,633\n",
      "Trainable params: 11,633\n",
      "Non-trainable params: 0\n",
      "_________________________________________________________________\n",
      "Train...\n",
      "Train on 11513 samples, validate on 2032 samples\n",
      "Epoch 1/20\n",
      "11513/11513 [==============================] - 13s 1ms/step - loss: 0.6938 - binary_accuracy: 0.5185 - val_loss: 0.6922 - val_binary_accuracy: 0.5256\n",
      "Epoch 2/20\n",
      "11513/11513 [==============================] - 10s 847us/step - loss: 0.6931 - binary_accuracy: 0.5196 - val_loss: 0.6917 - val_binary_accuracy: 0.5256\n",
      "Epoch 3/20\n",
      "11513/11513 [==============================] - 10s 858us/step - loss: 0.6924 - binary_accuracy: 0.5225 - val_loss: 0.6978 - val_binary_accuracy: 0.4744\n",
      "Epoch 4/20\n",
      "11513/11513 [==============================] - 10s 844us/step - loss: 0.6926 - binary_accuracy: 0.5146 - val_loss: 0.6917 - val_binary_accuracy: 0.5256\n",
      "Epoch 00004: early stopping\n",
      "Accuracy is 0.493687707641196\n",
      "AUC is 0.5134642490011764\n",
      "Train indices: [    0     1     2 ... 15047 15048 15049]\n",
      "Test indices: [   11    27    28 ... 15036 15037 15044]\n",
      "_________________________________________________________________\n",
      "Layer (type)                 Output Shape              Param #   \n",
      "=================================================================\n",
      "lstm_7 (LSTM)                (None, 50)                10800     \n",
      "_________________________________________________________________\n",
      "dense_13 (Dense)             (None, 16)                816       \n",
      "_________________________________________________________________\n",
      "activation_13 (Activation)   (None, 16)                0         \n",
      "_________________________________________________________________\n",
      "dense_14 (Dense)             (None, 1)                 17        \n",
      "_________________________________________________________________\n",
      "activation_14 (Activation)   (None, 1)                 0         \n",
      "=================================================================\n",
      "Total params: 11,633\n",
      "Trainable params: 11,633\n",
      "Non-trainable params: 0\n",
      "_________________________________________________________________\n",
      "Train...\n",
      "Train on 11513 samples, validate on 2032 samples\n",
      "Epoch 1/20\n",
      "11513/11513 [==============================] - 12s 1ms/step - loss: 0.6949 - binary_accuracy: 0.5021 - val_loss: 0.6917 - val_binary_accuracy: 0.5256\n",
      "Epoch 2/20\n",
      "11513/11513 [==============================] - 10s 844us/step - loss: 0.6935 - binary_accuracy: 0.5119 - val_loss: 0.6921 - val_binary_accuracy: 0.5256\n",
      "Epoch 3/20\n",
      "11513/11513 [==============================] - 10s 852us/step - loss: 0.6933 - binary_accuracy: 0.5102 - val_loss: 0.6931 - val_binary_accuracy: 0.5010\n",
      "Epoch 4/20\n",
      "11513/11513 [==============================] - 10s 843us/step - loss: 0.6931 - binary_accuracy: 0.5113 - val_loss: 0.6922 - val_binary_accuracy: 0.5256\n",
      "Epoch 00004: early stopping\n",
      "Accuracy is 0.5335548172757475\n",
      "AUC is 0.49790759722266564\n",
      "Train indices: [    1     2     3 ... 15045 15047 15048]\n",
      "Test indices: [    0     4    23 ... 15017 15046 15049]\n",
      "_________________________________________________________________\n",
      "Layer (type)                 Output Shape              Param #   \n",
      "=================================================================\n",
      "lstm_8 (LSTM)                (None, 50)                10800     \n",
      "_________________________________________________________________\n",
      "dense_15 (Dense)             (None, 16)                816       \n",
      "_________________________________________________________________\n",
      "activation_15 (Activation)   (None, 16)                0         \n",
      "_________________________________________________________________\n",
      "dense_16 (Dense)             (None, 1)                 17        \n",
      "_________________________________________________________________\n",
      "activation_16 (Activation)   (None, 1)                 0         \n",
      "=================================================================\n",
      "Total params: 11,633\n",
      "Trainable params: 11,633\n",
      "Non-trainable params: 0\n",
      "_________________________________________________________________\n",
      "Train...\n",
      "Train on 11513 samples, validate on 2032 samples\n",
      "Epoch 1/20\n",
      "11513/11513 [==============================] - 12s 1ms/step - loss: 0.6942 - binary_accuracy: 0.5091 - val_loss: 0.6918 - val_binary_accuracy: 0.5266\n",
      "Epoch 2/20\n",
      "11513/11513 [==============================] - 10s 851us/step - loss: 0.6929 - binary_accuracy: 0.5113 - val_loss: 0.6926 - val_binary_accuracy: 0.5261\n",
      "Epoch 3/20\n",
      "11513/11513 [==============================] - 10s 856us/step - loss: 0.6929 - binary_accuracy: 0.5172 - val_loss: 0.6919 - val_binary_accuracy: 0.5266\n",
      "Epoch 4/20\n",
      "11513/11513 [==============================] - 10s 856us/step - loss: 0.6928 - binary_accuracy: 0.5146 - val_loss: 0.6922 - val_binary_accuracy: 0.5266\n",
      "Epoch 00004: early stopping\n",
      "Accuracy is 0.5069767441860465\n",
      "AUC is 0.4819401709099773\n",
      "Train indices: [    0     1     2 ... 15047 15048 15049]\n",
      "Test indices: [    9    13    19 ... 15030 15040 15042]\n"
     ]
    },
    {
     "name": "stdout",
     "output_type": "stream",
     "text": [
      "_________________________________________________________________\n",
      "Layer (type)                 Output Shape              Param #   \n",
      "=================================================================\n",
      "lstm_9 (LSTM)                (None, 50)                10800     \n",
      "_________________________________________________________________\n",
      "dense_17 (Dense)             (None, 16)                816       \n",
      "_________________________________________________________________\n",
      "activation_17 (Activation)   (None, 16)                0         \n",
      "_________________________________________________________________\n",
      "dense_18 (Dense)             (None, 1)                 17        \n",
      "_________________________________________________________________\n",
      "activation_18 (Activation)   (None, 1)                 0         \n",
      "=================================================================\n",
      "Total params: 11,633\n",
      "Trainable params: 11,633\n",
      "Non-trainable params: 0\n",
      "_________________________________________________________________\n",
      "Train...\n",
      "Train on 11513 samples, validate on 2032 samples\n",
      "Epoch 1/20\n",
      "11513/11513 [==============================] - 12s 1ms/step - loss: 0.6941 - binary_accuracy: 0.5048 - val_loss: 0.6917 - val_binary_accuracy: 0.5276\n",
      "Epoch 2/20\n",
      "11513/11513 [==============================] - 10s 853us/step - loss: 0.6934 - binary_accuracy: 0.5101 - val_loss: 0.6927 - val_binary_accuracy: 0.5025\n",
      "Epoch 3/20\n",
      "11513/11513 [==============================] - 10s 858us/step - loss: 0.6928 - binary_accuracy: 0.5131 - val_loss: 0.6923 - val_binary_accuracy: 0.5276\n",
      "Epoch 4/20\n",
      "11513/11513 [==============================] - 10s 894us/step - loss: 0.6928 - binary_accuracy: 0.5143 - val_loss: 0.6920 - val_binary_accuracy: 0.5276\n",
      "Epoch 00004: early stopping\n",
      "Accuracy is 0.5229235880398672\n",
      "AUC is 0.5198498936407429\n",
      "Train indices: [    0     1     2 ... 15047 15048 15049]\n",
      "Test indices: [    3    16    26 ... 15028 15031 15032]\n",
      "_________________________________________________________________\n",
      "Layer (type)                 Output Shape              Param #   \n",
      "=================================================================\n",
      "lstm_10 (LSTM)               (None, 50)                10800     \n",
      "_________________________________________________________________\n",
      "dense_19 (Dense)             (None, 16)                816       \n",
      "_________________________________________________________________\n",
      "activation_19 (Activation)   (None, 16)                0         \n",
      "_________________________________________________________________\n",
      "dense_20 (Dense)             (None, 1)                 17        \n",
      "_________________________________________________________________\n",
      "activation_20 (Activation)   (None, 1)                 0         \n",
      "=================================================================\n",
      "Total params: 11,633\n",
      "Trainable params: 11,633\n",
      "Non-trainable params: 0\n",
      "_________________________________________________________________\n",
      "Train...\n",
      "Train on 11513 samples, validate on 2032 samples\n",
      "Epoch 1/20\n",
      "11513/11513 [==============================] - 13s 1ms/step - loss: 0.6941 - binary_accuracy: 0.5129 - val_loss: 0.6918 - val_binary_accuracy: 0.5285\n",
      "Epoch 2/20\n",
      "11513/11513 [==============================] - 10s 857us/step - loss: 0.6929 - binary_accuracy: 0.5152 - val_loss: 0.6939 - val_binary_accuracy: 0.4975\n",
      "Epoch 3/20\n",
      "11513/11513 [==============================] - 10s 854us/step - loss: 0.6929 - binary_accuracy: 0.5138 - val_loss: 0.6918 - val_binary_accuracy: 0.5285\n",
      "Epoch 4/20\n",
      "11513/11513 [==============================] - 11s 994us/step - loss: 0.6930 - binary_accuracy: 0.5154 - val_loss: 0.6926 - val_binary_accuracy: 0.5295\n",
      "Epoch 00004: early stopping\n",
      "Accuracy is 0.5023255813953489\n",
      "AUC is 0.5033536477654125\n",
      "Train indices: [    0     1     2 ... 15046 15047 15049]\n",
      "Test indices: [    6    22    25 ... 15022 15025 15048]\n",
      "_________________________________________________________________\n",
      "Layer (type)                 Output Shape              Param #   \n",
      "=================================================================\n",
      "lstm_11 (LSTM)               (None, 50)                10800     \n",
      "_________________________________________________________________\n",
      "dense_21 (Dense)             (None, 16)                816       \n",
      "_________________________________________________________________\n",
      "activation_21 (Activation)   (None, 16)                0         \n",
      "_________________________________________________________________\n",
      "dense_22 (Dense)             (None, 1)                 17        \n",
      "_________________________________________________________________\n",
      "activation_22 (Activation)   (None, 1)                 0         \n",
      "=================================================================\n",
      "Total params: 11,633\n",
      "Trainable params: 11,633\n",
      "Non-trainable params: 0\n",
      "_________________________________________________________________\n",
      "Train...\n",
      "Train on 11513 samples, validate on 2032 samples\n",
      "Epoch 1/20\n",
      "11513/11513 [==============================] - 18s 2ms/step - loss: 0.6943 - binary_accuracy: 0.5056 - val_loss: 0.6936 - val_binary_accuracy: 0.5251\n",
      "Epoch 2/20\n",
      "11513/11513 [==============================] - 12s 1ms/step - loss: 0.6933 - binary_accuracy: 0.5122 - val_loss: 0.6931 - val_binary_accuracy: 0.5064\n",
      "Epoch 3/20\n",
      "11513/11513 [==============================] - 11s 976us/step - loss: 0.6931 - binary_accuracy: 0.5130 - val_loss: 0.6921 - val_binary_accuracy: 0.5251\n",
      "Epoch 4/20\n",
      "11513/11513 [==============================] - 13s 1ms/step - loss: 0.6928 - binary_accuracy: 0.5150 - val_loss: 0.6912 - val_binary_accuracy: 0.5251\n",
      "Epoch 00004: early stopping\n",
      "Accuracy is 0.5176079734219269\n",
      "AUC is 0.5059189750227211\n",
      "Train indices: [    0     2     3 ... 15046 15048 15049]\n",
      "Test indices: [    1    10    17 ... 15035 15045 15047]\n",
      "_________________________________________________________________\n",
      "Layer (type)                 Output Shape              Param #   \n",
      "=================================================================\n",
      "lstm_12 (LSTM)               (None, 50)                10800     \n",
      "_________________________________________________________________\n",
      "dense_23 (Dense)             (None, 16)                816       \n",
      "_________________________________________________________________\n",
      "activation_23 (Activation)   (None, 16)                0         \n",
      "_________________________________________________________________\n",
      "dense_24 (Dense)             (None, 1)                 17        \n",
      "_________________________________________________________________\n",
      "activation_24 (Activation)   (None, 1)                 0         \n",
      "=================================================================\n",
      "Total params: 11,633\n",
      "Trainable params: 11,633\n",
      "Non-trainable params: 0\n",
      "_________________________________________________________________\n",
      "Train...\n",
      "Train on 11513 samples, validate on 2032 samples\n",
      "Epoch 1/20\n",
      "11513/11513 [==============================] - 16s 1ms/step - loss: 0.6939 - binary_accuracy: 0.5068 - val_loss: 0.6917 - val_binary_accuracy: 0.5315\n",
      "Epoch 2/20\n",
      "11513/11513 [==============================] - 14s 1ms/step - loss: 0.6931 - binary_accuracy: 0.5132 - val_loss: 0.6922 - val_binary_accuracy: 0.5315\n",
      "Epoch 3/20\n",
      "11513/11513 [==============================] - 14s 1ms/step - loss: 0.6929 - binary_accuracy: 0.5065 - val_loss: 0.6914 - val_binary_accuracy: 0.5315\n",
      "Epoch 4/20\n",
      "11513/11513 [==============================] - 11s 963us/step - loss: 0.6930 - binary_accuracy: 0.5138 - val_loss: 0.6918 - val_binary_accuracy: 0.5325\n",
      "Epoch 00004: early stopping\n",
      "Accuracy is 0.5162790697674419\n",
      "AUC is 0.5232809339952197\n",
      "Train indices: [    0     1     2 ... 15047 15048 15049]\n",
      "Test indices: [    7    14    29 ... 14968 14981 15001]\n",
      "_________________________________________________________________\n",
      "Layer (type)                 Output Shape              Param #   \n",
      "=================================================================\n",
      "lstm_13 (LSTM)               (None, 50)                10800     \n",
      "_________________________________________________________________\n",
      "dense_25 (Dense)             (None, 16)                816       \n",
      "_________________________________________________________________\n",
      "activation_25 (Activation)   (None, 16)                0         \n",
      "_________________________________________________________________\n",
      "dense_26 (Dense)             (None, 1)                 17        \n",
      "_________________________________________________________________\n",
      "activation_26 (Activation)   (None, 1)                 0         \n",
      "=================================================================\n",
      "Total params: 11,633\n",
      "Trainable params: 11,633\n",
      "Non-trainable params: 0\n",
      "_________________________________________________________________\n",
      "Train...\n"
     ]
    },
    {
     "name": "stdout",
     "output_type": "stream",
     "text": [
      "Train on 11513 samples, validate on 2032 samples\n",
      "Epoch 1/20\n",
      "11513/11513 [==============================] - 14s 1ms/step - loss: 0.6936 - binary_accuracy: 0.5111 - val_loss: 0.6935 - val_binary_accuracy: 0.4985\n",
      "Epoch 2/20\n",
      "11513/11513 [==============================] - 13s 1ms/step - loss: 0.6932 - binary_accuracy: 0.5165 - val_loss: 0.6926 - val_binary_accuracy: 0.5221\n",
      "Epoch 3/20\n",
      "11513/11513 [==============================] - 12s 1ms/step - loss: 0.6929 - binary_accuracy: 0.5154 - val_loss: 0.6921 - val_binary_accuracy: 0.5221\n",
      "Epoch 4/20\n",
      "11513/11513 [==============================] - 14s 1ms/step - loss: 0.6916 - binary_accuracy: 0.5213 - val_loss: 0.6889 - val_binary_accuracy: 0.5664\n",
      "Epoch 00004: early stopping\n",
      "Accuracy is 0.5754152823920266\n",
      "AUC is 0.5441671087533156\n",
      "Train indices: [    0     1     2 ... 15047 15048 15049]\n",
      "Test indices: [   18    44    49 ... 15014 15018 15041]\n",
      "_________________________________________________________________\n",
      "Layer (type)                 Output Shape              Param #   \n",
      "=================================================================\n",
      "lstm_14 (LSTM)               (None, 50)                10800     \n",
      "_________________________________________________________________\n",
      "dense_27 (Dense)             (None, 16)                816       \n",
      "_________________________________________________________________\n",
      "activation_27 (Activation)   (None, 16)                0         \n",
      "_________________________________________________________________\n",
      "dense_28 (Dense)             (None, 1)                 17        \n",
      "_________________________________________________________________\n",
      "activation_28 (Activation)   (None, 1)                 0         \n",
      "=================================================================\n",
      "Total params: 11,633\n",
      "Trainable params: 11,633\n",
      "Non-trainable params: 0\n",
      "_________________________________________________________________\n",
      "Train...\n",
      "Train on 11513 samples, validate on 2032 samples\n",
      "Epoch 1/20\n",
      "11513/11513 [==============================] - 16s 1ms/step - loss: 0.6940 - binary_accuracy: 0.5012 - val_loss: 0.6925 - val_binary_accuracy: 0.5246\n",
      "Epoch 2/20\n",
      "11513/11513 [==============================] - 14s 1ms/step - loss: 0.6930 - binary_accuracy: 0.5108 - val_loss: 0.6928 - val_binary_accuracy: 0.5084\n",
      "Epoch 3/20\n",
      "11513/11513 [==============================] - 12s 1ms/step - loss: 0.6929 - binary_accuracy: 0.5139 - val_loss: 0.6923 - val_binary_accuracy: 0.5241\n",
      "Epoch 4/20\n",
      "11513/11513 [==============================] - 12s 1ms/step - loss: 0.6928 - binary_accuracy: 0.5122 - val_loss: 0.6922 - val_binary_accuracy: 0.5241\n",
      "Epoch 00004: early stopping\n",
      "Accuracy is 0.5235880398671097\n",
      "AUC is 0.500170797669364\n",
      "0.5201343851407108\n",
      "0.5285049833887043\n"
     ]
    }
   ],
   "source": [
    "seed = 7\n",
    "kfold = KFold(n_splits=10, shuffle=True, random_state=seed)\n",
    "\n",
    "acc_list = []\n",
    "AUC_list = []\n",
    "# f1_list = []\n",
    "\n",
    "np.random.seed(14)  # fix the random numbers generator state\n",
    "\n",
    "batch_size = 16\n",
    "hidden_units = 50\n",
    "input_shape = X_train.shape[1:]\n",
    "nb_epochs = 20\n",
    "nb_classes = 1\n",
    "dropout = 0.05\n",
    "early_stopping = EarlyStopping(monitor='val_loss', min_delta=0.01, patience=3, verbose=1)\n",
    "print('Build model...')\n",
    "\n",
    "# sgd = SGD(lr=0.1, decay=1e-6, momentum=0.9, nesterov=True)\n",
    "\n",
    "for train, test in kfold.split(X_train, Y_train):\n",
    "    print('Train indices:', train)\n",
    "    print('Test indices:', test)\n",
    "    \n",
    "#     train_set = np.array((0, 0, 0))\n",
    "#     target_set = np.array(0)\n",
    "#     X_train, Y_train = merge_df_rows(df.iloc[train])\n",
    "    \n",
    "#     train_set = np.array((0, 0, 0))\n",
    "#     target_set = np.array(0)\n",
    "#     X_test, Y_test = merge_df_rows(df.iloc[test])\n",
    "    \n",
    "    input_shape = X_train.shape[1:]\n",
    "#     print(input_shape)\n",
    "\n",
    "    model = Sequential()\n",
    "#     model.add(Bidirectional(LSTM(units=hidden_units, kernel_initializer='uniform', recurrent_initializer='uniform', \n",
    "#                    dropout=dropout, use_bias=True, unit_forget_bias=True, activation='tanh', recurrent_activation='sigmoid', \n",
    "#                    input_shape=input_shape), input_shape=input_shape, merge_mode='concat'))\n",
    "    model.add(LSTM(units=hidden_units, kernel_initializer='uniform', recurrent_initializer='uniform', \n",
    "                   dropout=dropout, use_bias=True, unit_forget_bias=True, activation='tanh', recurrent_activation='sigmoid', \n",
    "                   input_shape=input_shape))\n",
    "\n",
    "    model.add(Dense(16))\n",
    "    model.add(Activation('linear'))\n",
    "\n",
    "    model.add(Dense(nb_classes))\n",
    "    model.add(Activation('sigmoid'))\n",
    "\n",
    "    model.summary()\n",
    "\n",
    "    model.compile(loss='binary_crossentropy', metrics=['binary_accuracy'], optimizer='adam')\n",
    "\n",
    "    print(\"Train...\")\n",
    "    history = model.fit(X_train[train], Y_train[train], batch_size=batch_size, epochs=nb_epochs, verbose=1,\n",
    "                        callbacks=[early_stopping], validation_split=0.15)\n",
    "\n",
    "    Y_pred = model.predict_proba(X_train[test])\n",
    "    acc = accuracy_score(Y_train[test], np.round(Y_pred))\n",
    "    print('Accuracy is', acc)\n",
    "    AUC = roc_auc_score(Y_train[test], Y_pred)\n",
    "    print('AUC is', AUC)\n",
    "#     f1 = f1_score(Y_train[test], np.round(Y_pred))\n",
    "#     print('F1-score is', f1)\n",
    "    \n",
    "    acc_list.append(acc)\n",
    "    AUC_list.append(AUC)\n",
    "#     f1_list.append(f1)\n",
    "\n",
    "print(np.mean(AUC_list))\n",
    "print(np.mean(acc_list))"
   ]
  },
  {
   "cell_type": "code",
   "execution_count": 8,
   "metadata": {},
   "outputs": [
    {
     "data": {
      "text/plain": [
       "[0.7604895104895104,\n",
       " 0.5900360144057623,\n",
       " 0.7279761904761904,\n",
       " 0.5932400932400932,\n",
       " 0.659698025551684,\n",
       " 0.7179962894248608,\n",
       " 0.756578947368421,\n",
       " 0.5884498480243161,\n",
       " 0.5930993456276026,\n",
       " 0.5849849849849851]"
      ]
     },
     "execution_count": 8,
     "metadata": {},
     "output_type": "execute_result"
    }
   ],
   "source": [
    "AUC_list"
   ]
  },
  {
   "cell_type": "code",
   "execution_count": null,
   "metadata": {},
   "outputs": [],
   "source": []
  }
 ],
 "metadata": {
  "kernelspec": {
   "display_name": "DLC",
   "language": "python",
   "name": "dlc"
  },
  "language_info": {
   "codemirror_mode": {
    "name": "ipython",
    "version": 3
   },
   "file_extension": ".py",
   "mimetype": "text/x-python",
   "name": "python",
   "nbconvert_exporter": "python",
   "pygments_lexer": "ipython3",
   "version": "3.6.4"
  }
 },
 "nbformat": 4,
 "nbformat_minor": 2
}
