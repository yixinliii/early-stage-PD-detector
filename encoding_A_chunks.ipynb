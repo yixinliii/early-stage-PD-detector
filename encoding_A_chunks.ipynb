{
 "cells": [
  {
   "cell_type": "markdown",
   "metadata": {},
   "source": [
    "## PD_MIT-CS1PD dataset"
   ]
  },
  {
   "cell_type": "markdown",
   "metadata": {},
   "source": [
    "### Ground truth loading"
   ]
  },
  {
   "cell_type": "code",
   "execution_count": 1,
   "metadata": {},
   "outputs": [],
   "source": [
    "import pandas as pd\n",
    "import numpy as np\n",
    "import matplotlib.pyplot as plt\n",
    "import nqDataLoader as nq  #data loading library\n",
    "from sklearn.model_selection import train_test_split\n",
    "import h5py"
   ]
  },
  {
   "cell_type": "markdown",
   "metadata": {},
   "source": [
    "### Load all the files"
   ]
  },
  {
   "cell_type": "code",
   "execution_count": 2,
   "metadata": {},
   "outputs": [],
   "source": [
    "# load ground Ground Truth \n",
    "cs1PdFr = pd.read_csv( 'MIT-CS1PD/GT_DataPD_MIT-CS1PD.csv' )\n",
    "# set Patient ID as index\n",
    "cs1PdFr = cs1PdFr.set_index('pID')\n",
    "# load ground Ground Truth \n",
    "cs2PdFr = pd.read_csv( 'MIT-CS2PD/GT_DataPD_MIT-CS2PD.csv' )\n",
    "# set Patient ID as index\n",
    "cs2PdFr = cs2PdFr.set_index('pID')\n",
    "# show part of Data Frame\n",
    "# cs2PdFr.head()"
   ]
  },
  {
   "cell_type": "code",
   "execution_count": 3,
   "metadata": {
    "scrolled": true
   },
   "outputs": [
    {
     "name": "stdout",
     "output_type": "stream",
     "text": [
      "        gt  updrs108   afTap    sTap   nqScore  typingSpeed  \\\n",
      "pID                                                           \n",
      "11    True     14.25     NaN  162.25  0.117543   189.372549   \n",
      "60   False      2.00     NaN  162.25  0.070350    60.533333   \n",
      "67    True     25.25     NaN  133.75  0.223411    54.333333   \n",
      "68   False      6.00     NaN  159.00  0.074973    71.800000   \n",
      "70    True     26.25     NaN  113.50  0.175751    39.614035   \n",
      "71    True     13.75  132.50  153.00  0.133368   106.274510   \n",
      "72    True     17.00     NaN  146.75  0.212424    79.122807   \n",
      "73    True     23.25   99.25  164.25  0.080307   115.541667   \n",
      "74    True     11.25     NaN  175.50  0.107535   186.078431   \n",
      "75    True     12.75   79.25  158.75  0.149056   176.117647   \n",
      "76   False      0.00  136.75  177.00  0.086308   249.725490   \n",
      "77   False      2.25     NaN  150.00  0.034513    79.733333   \n",
      "78    True     39.25   49.50  191.75  0.273473    85.000000   \n",
      "79   False      1.25  148.75  173.75  0.097358    82.526316   \n",
      "80    True     39.50   92.00  125.50  0.155416    70.666667   \n",
      "81   False      4.25     NaN  158.00  0.078277    57.533333   \n",
      "82    True     32.50   96.00  196.75  0.075356    33.500000   \n",
      "83   False      2.75  152.00  164.50  0.051682   110.666667   \n",
      "84    True     22.25   97.75  156.25  0.078487    99.921569   \n",
      "85   False      2.50  107.75  159.50  0.069698   104.078431   \n",
      "86    True     14.25  114.75  133.25  0.058106   119.791667   \n",
      "87   False      2.75  118.25  140.50  0.053673   188.041667   \n",
      "88    True     13.75   95.00  157.00  0.091351   105.166667   \n",
      "89   False      0.00  144.25  164.50  0.080153   149.333333   \n",
      "92    True     21.50  101.25  145.00  0.190946    81.017544   \n",
      "93    True     21.00  116.00  190.75  0.107031    80.947368   \n",
      "94   False      4.00  142.00  157.25  0.049937    85.490196   \n",
      "95   False      1.50  213.00  181.75  0.075449   188.814815   \n",
      "97    True     25.00   92.00  188.75  0.150020    97.019608   \n",
      "98    True     29.00   87.00  176.75  0.153231    59.939394   \n",
      "99   False      1.50   96.50  180.00  0.057458    92.370370   \n",
      "\n",
      "                         file_1                      file_2  \n",
      "pID                                                          \n",
      "11   1402930351.011_001_014.csv  1403706430.011_003_014.csv  \n",
      "60   1402932300.060_001_014.csv  1403708258.060_003_014.csv  \n",
      "67   1401117235.067_001_014.csv  1401978395.067_003_014.csv  \n",
      "68   1401114972.068_001_014.csv  1401980765.068_003_014.csv  \n",
      "70   1404311419.070_001_014.csv  1404743687.070_003_014.csv  \n",
      "71   1410446321.071_001_014.csv  1411655869.071_003_014.csv  \n",
      "72   1403795516.072_001_014.csv  1404832986.072_003_014.csv  \n",
      "73   1418748996.073_001_014.csv  1419870664.073_003_014.csv  \n",
      "74   1403792224.074_001_014.csv  1404747197.074_003_014.csv  \n",
      "75   1407421738.075_001_014.csv  1409756763.075_003_014.csv  \n",
      "76   1407423449.076_001_014.csv  1409754834.076_003_014.csv  \n",
      "77   1403797570.077_001_014.csv  1404834530.077_003_014.csv  \n",
      "78   1410450204.078_001_014.csv  1412088758.078_003_014.csv  \n",
      "79   1410451895.079_001_014.csv  1412090543.079_003_014.csv  \n",
      "80   1404819923.080_001_014.csv  1408630965.080_003_014.csv  \n",
      "81   1404313658.081_001_014.csv  1404745424.081_003_014.csv  \n",
      "82   1404830509.082_001_014.csv  1407425493.082_003_014.csv  \n",
      "83   1404828566.083_001_014.csv  1407427375.083_003_014.csv  \n",
      "84   1407163319.084_001_014.csv  1408982860.084_003_014.csv  \n",
      "85   1407165254.085_001_014.csv  1408980899.085_003_014.csv  \n",
      "86   1408976968.086_001_014.csv  1410274781.086_003_014.csv  \n",
      "87   1408979136.087_001_014.csv  1410276815.087_003_014.csv  \n",
      "88   1408372533.088_001_014.csv  1409235978.088_003_014.csv  \n",
      "89   1408374282.089_001_014.csv  1409238087.089_003_014.csv  \n",
      "92   1410272175.092_001_014.csv  1412086661.092_003_014.csv  \n",
      "93   1408376132.093_001_014.csv  1412694503.093_003_014.csv  \n",
      "94   1408378153.094_001_014.csv  1412692310.094_003_014.csv  \n",
      "95   1410448218.095_001_014.csv  1411657572.095_003_014.csv  \n",
      "97   1408029544.097_001_014.csv  1408633211.097_003_014.csv  \n",
      "98   1418744709.098_001_014.csv  1419866851.098_003_014.csv  \n",
      "99   1418746466.099_001_014.csv  1419868806.099_003_014.csv  \n"
     ]
    },
    {
     "name": "stderr",
     "output_type": "stream",
     "text": [
      "C:\\Users\\Anony\\anaconda3\\envs\\tensorflow_gpu\\lib\\site-packages\\ipykernel_launcher.py:10: DeprecationWarning: The default dtype for empty Series will be 'object' instead of 'float64' in a future version. Specify a dtype explicitly to silence this warning.\n",
      "  # Remove the CWD from sys.path while we load stuff.\n",
      "C:\\Users\\Anony\\Desktop\\科研\\ISEF\\final\\keyboard\\code\\nqDataLoader.py:87: VisibleDeprecationWarning: Reading unicode strings without specifying the encoding argument is deprecated. Set the encoding, use None for the system default.\n",
      "  data = np.genfromtxt(fileIn, dtype=None, delimiter=',', skip_header=0)\n"
     ]
    },
    {
     "ename": "TypeError",
     "evalue": "cannot use a string pattern on a bytes-like object",
     "output_type": "error",
     "traceback": [
      "\u001b[1;31m---------------------------------------------------------------------------\u001b[0m",
      "\u001b[1;31mTypeError\u001b[0m                                 Traceback (most recent call last)",
      "\u001b[1;32m<ipython-input-3-cbc9309abef0>\u001b[0m in \u001b[0;36m<module>\u001b[1;34m\u001b[0m\n\u001b[0;32m     47\u001b[0m \u001b[0mprint\u001b[0m\u001b[1;33m(\u001b[0m\u001b[0mcs1PdFr\u001b[0m\u001b[1;33m)\u001b[0m\u001b[1;33m\u001b[0m\u001b[1;33m\u001b[0m\u001b[0m\n\u001b[0;32m     48\u001b[0m \u001b[1;33m\u001b[0m\u001b[0m\n\u001b[1;32m---> 49\u001b[1;33m \u001b[0mtmp\u001b[0m \u001b[1;33m=\u001b[0m \u001b[0mcs1PdFr\u001b[0m\u001b[1;33m.\u001b[0m\u001b[0mapply\u001b[0m\u001b[1;33m(\u001b[0m\u001b[1;32mlambda\u001b[0m \u001b[0mx\u001b[0m\u001b[1;33m:\u001b[0m \u001b[0mload_all\u001b[0m\u001b[1;33m(\u001b[0m\u001b[0mx\u001b[0m\u001b[1;33m)\u001b[0m\u001b[1;33m,\u001b[0m \u001b[0maxis\u001b[0m\u001b[1;33m=\u001b[0m\u001b[1;36m1\u001b[0m\u001b[1;33m)\u001b[0m\u001b[1;33m\u001b[0m\u001b[1;33m\u001b[0m\u001b[0m\n\u001b[0m\u001b[0;32m     50\u001b[0m \u001b[0mtmp\u001b[0m \u001b[1;33m=\u001b[0m \u001b[0mcs2PdFr\u001b[0m\u001b[1;33m.\u001b[0m\u001b[0mapply\u001b[0m\u001b[1;33m(\u001b[0m\u001b[1;32mlambda\u001b[0m \u001b[0mx\u001b[0m\u001b[1;33m:\u001b[0m \u001b[0mload_all_d2\u001b[0m\u001b[1;33m(\u001b[0m\u001b[0mx\u001b[0m\u001b[1;33m)\u001b[0m\u001b[1;33m,\u001b[0m \u001b[0maxis\u001b[0m\u001b[1;33m=\u001b[0m\u001b[1;36m1\u001b[0m\u001b[1;33m)\u001b[0m\u001b[1;33m\u001b[0m\u001b[1;33m\u001b[0m\u001b[0m\n\u001b[0;32m     51\u001b[0m \u001b[1;33m\u001b[0m\u001b[0m\n",
      "\u001b[1;32m~\\anaconda3\\envs\\tensorflow_gpu\\lib\\site-packages\\pandas\\core\\frame.py\u001b[0m in \u001b[0;36mapply\u001b[1;34m(self, func, axis, raw, result_type, args, **kwds)\u001b[0m\n\u001b[0;32m   7550\u001b[0m             \u001b[0mkwds\u001b[0m\u001b[1;33m=\u001b[0m\u001b[0mkwds\u001b[0m\u001b[1;33m,\u001b[0m\u001b[1;33m\u001b[0m\u001b[1;33m\u001b[0m\u001b[0m\n\u001b[0;32m   7551\u001b[0m         )\n\u001b[1;32m-> 7552\u001b[1;33m         \u001b[1;32mreturn\u001b[0m \u001b[0mop\u001b[0m\u001b[1;33m.\u001b[0m\u001b[0mget_result\u001b[0m\u001b[1;33m(\u001b[0m\u001b[1;33m)\u001b[0m\u001b[1;33m\u001b[0m\u001b[1;33m\u001b[0m\u001b[0m\n\u001b[0m\u001b[0;32m   7553\u001b[0m \u001b[1;33m\u001b[0m\u001b[0m\n\u001b[0;32m   7554\u001b[0m     \u001b[1;32mdef\u001b[0m \u001b[0mapplymap\u001b[0m\u001b[1;33m(\u001b[0m\u001b[0mself\u001b[0m\u001b[1;33m,\u001b[0m \u001b[0mfunc\u001b[0m\u001b[1;33m)\u001b[0m \u001b[1;33m->\u001b[0m \u001b[1;34m\"DataFrame\"\u001b[0m\u001b[1;33m:\u001b[0m\u001b[1;33m\u001b[0m\u001b[1;33m\u001b[0m\u001b[0m\n",
      "\u001b[1;32m~\\anaconda3\\envs\\tensorflow_gpu\\lib\\site-packages\\pandas\\core\\apply.py\u001b[0m in \u001b[0;36mget_result\u001b[1;34m(self)\u001b[0m\n\u001b[0;32m    183\u001b[0m             \u001b[1;32mreturn\u001b[0m \u001b[0mself\u001b[0m\u001b[1;33m.\u001b[0m\u001b[0mapply_raw\u001b[0m\u001b[1;33m(\u001b[0m\u001b[1;33m)\u001b[0m\u001b[1;33m\u001b[0m\u001b[1;33m\u001b[0m\u001b[0m\n\u001b[0;32m    184\u001b[0m \u001b[1;33m\u001b[0m\u001b[0m\n\u001b[1;32m--> 185\u001b[1;33m         \u001b[1;32mreturn\u001b[0m \u001b[0mself\u001b[0m\u001b[1;33m.\u001b[0m\u001b[0mapply_standard\u001b[0m\u001b[1;33m(\u001b[0m\u001b[1;33m)\u001b[0m\u001b[1;33m\u001b[0m\u001b[1;33m\u001b[0m\u001b[0m\n\u001b[0m\u001b[0;32m    186\u001b[0m \u001b[1;33m\u001b[0m\u001b[0m\n\u001b[0;32m    187\u001b[0m     \u001b[1;32mdef\u001b[0m \u001b[0mapply_empty_result\u001b[0m\u001b[1;33m(\u001b[0m\u001b[0mself\u001b[0m\u001b[1;33m)\u001b[0m\u001b[1;33m:\u001b[0m\u001b[1;33m\u001b[0m\u001b[1;33m\u001b[0m\u001b[0m\n",
      "\u001b[1;32m~\\anaconda3\\envs\\tensorflow_gpu\\lib\\site-packages\\pandas\\core\\apply.py\u001b[0m in \u001b[0;36mapply_standard\u001b[1;34m(self)\u001b[0m\n\u001b[0;32m    274\u001b[0m \u001b[1;33m\u001b[0m\u001b[0m\n\u001b[0;32m    275\u001b[0m     \u001b[1;32mdef\u001b[0m \u001b[0mapply_standard\u001b[0m\u001b[1;33m(\u001b[0m\u001b[0mself\u001b[0m\u001b[1;33m)\u001b[0m\u001b[1;33m:\u001b[0m\u001b[1;33m\u001b[0m\u001b[1;33m\u001b[0m\u001b[0m\n\u001b[1;32m--> 276\u001b[1;33m         \u001b[0mresults\u001b[0m\u001b[1;33m,\u001b[0m \u001b[0mres_index\u001b[0m \u001b[1;33m=\u001b[0m \u001b[0mself\u001b[0m\u001b[1;33m.\u001b[0m\u001b[0mapply_series_generator\u001b[0m\u001b[1;33m(\u001b[0m\u001b[1;33m)\u001b[0m\u001b[1;33m\u001b[0m\u001b[1;33m\u001b[0m\u001b[0m\n\u001b[0m\u001b[0;32m    277\u001b[0m \u001b[1;33m\u001b[0m\u001b[0m\n\u001b[0;32m    278\u001b[0m         \u001b[1;31m# wrap results\u001b[0m\u001b[1;33m\u001b[0m\u001b[1;33m\u001b[0m\u001b[1;33m\u001b[0m\u001b[0m\n",
      "\u001b[1;32m~\\anaconda3\\envs\\tensorflow_gpu\\lib\\site-packages\\pandas\\core\\apply.py\u001b[0m in \u001b[0;36mapply_series_generator\u001b[1;34m(self)\u001b[0m\n\u001b[0;32m    303\u001b[0m                 \u001b[1;32mfor\u001b[0m \u001b[0mi\u001b[0m\u001b[1;33m,\u001b[0m \u001b[0mv\u001b[0m \u001b[1;32min\u001b[0m \u001b[0menumerate\u001b[0m\u001b[1;33m(\u001b[0m\u001b[0mseries_gen\u001b[0m\u001b[1;33m)\u001b[0m\u001b[1;33m:\u001b[0m\u001b[1;33m\u001b[0m\u001b[1;33m\u001b[0m\u001b[0m\n\u001b[0;32m    304\u001b[0m                     \u001b[1;31m# ignore SettingWithCopy here in case the user mutates\u001b[0m\u001b[1;33m\u001b[0m\u001b[1;33m\u001b[0m\u001b[1;33m\u001b[0m\u001b[0m\n\u001b[1;32m--> 305\u001b[1;33m                     \u001b[0mresults\u001b[0m\u001b[1;33m[\u001b[0m\u001b[0mi\u001b[0m\u001b[1;33m]\u001b[0m \u001b[1;33m=\u001b[0m \u001b[0mself\u001b[0m\u001b[1;33m.\u001b[0m\u001b[0mf\u001b[0m\u001b[1;33m(\u001b[0m\u001b[0mv\u001b[0m\u001b[1;33m)\u001b[0m\u001b[1;33m\u001b[0m\u001b[1;33m\u001b[0m\u001b[0m\n\u001b[0m\u001b[0;32m    306\u001b[0m                     \u001b[1;32mif\u001b[0m \u001b[0misinstance\u001b[0m\u001b[1;33m(\u001b[0m\u001b[0mresults\u001b[0m\u001b[1;33m[\u001b[0m\u001b[0mi\u001b[0m\u001b[1;33m]\u001b[0m\u001b[1;33m,\u001b[0m \u001b[0mABCSeries\u001b[0m\u001b[1;33m)\u001b[0m\u001b[1;33m:\u001b[0m\u001b[1;33m\u001b[0m\u001b[1;33m\u001b[0m\u001b[0m\n\u001b[0;32m    307\u001b[0m                         \u001b[1;31m# If we have a view on v, we need to make a copy because\u001b[0m\u001b[1;33m\u001b[0m\u001b[1;33m\u001b[0m\u001b[1;33m\u001b[0m\u001b[0m\n",
      "\u001b[1;32m<ipython-input-3-cbc9309abef0>\u001b[0m in \u001b[0;36m<lambda>\u001b[1;34m(x)\u001b[0m\n\u001b[0;32m     47\u001b[0m \u001b[0mprint\u001b[0m\u001b[1;33m(\u001b[0m\u001b[0mcs1PdFr\u001b[0m\u001b[1;33m)\u001b[0m\u001b[1;33m\u001b[0m\u001b[1;33m\u001b[0m\u001b[0m\n\u001b[0;32m     48\u001b[0m \u001b[1;33m\u001b[0m\u001b[0m\n\u001b[1;32m---> 49\u001b[1;33m \u001b[0mtmp\u001b[0m \u001b[1;33m=\u001b[0m \u001b[0mcs1PdFr\u001b[0m\u001b[1;33m.\u001b[0m\u001b[0mapply\u001b[0m\u001b[1;33m(\u001b[0m\u001b[1;32mlambda\u001b[0m \u001b[0mx\u001b[0m\u001b[1;33m:\u001b[0m \u001b[0mload_all\u001b[0m\u001b[1;33m(\u001b[0m\u001b[0mx\u001b[0m\u001b[1;33m)\u001b[0m\u001b[1;33m,\u001b[0m \u001b[0maxis\u001b[0m\u001b[1;33m=\u001b[0m\u001b[1;36m1\u001b[0m\u001b[1;33m)\u001b[0m\u001b[1;33m\u001b[0m\u001b[1;33m\u001b[0m\u001b[0m\n\u001b[0m\u001b[0;32m     50\u001b[0m \u001b[0mtmp\u001b[0m \u001b[1;33m=\u001b[0m \u001b[0mcs2PdFr\u001b[0m\u001b[1;33m.\u001b[0m\u001b[0mapply\u001b[0m\u001b[1;33m(\u001b[0m\u001b[1;32mlambda\u001b[0m \u001b[0mx\u001b[0m\u001b[1;33m:\u001b[0m \u001b[0mload_all_d2\u001b[0m\u001b[1;33m(\u001b[0m\u001b[0mx\u001b[0m\u001b[1;33m)\u001b[0m\u001b[1;33m,\u001b[0m \u001b[0maxis\u001b[0m\u001b[1;33m=\u001b[0m\u001b[1;36m1\u001b[0m\u001b[1;33m)\u001b[0m\u001b[1;33m\u001b[0m\u001b[1;33m\u001b[0m\u001b[0m\n\u001b[0;32m     51\u001b[0m \u001b[1;33m\u001b[0m\u001b[0m\n",
      "\u001b[1;32m<ipython-input-3-cbc9309abef0>\u001b[0m in \u001b[0;36mload_all\u001b[1;34m(record)\u001b[0m\n\u001b[0;32m     11\u001b[0m     \u001b[1;32mfor\u001b[0m \u001b[0mfilename\u001b[0m \u001b[1;32min\u001b[0m \u001b[0mfilenames\u001b[0m\u001b[1;33m:\u001b[0m\u001b[1;33m\u001b[0m\u001b[1;33m\u001b[0m\u001b[0m\n\u001b[0;32m     12\u001b[0m         \u001b[0mkeyPressed\u001b[0m\u001b[1;33m,\u001b[0m \u001b[0mhtArr\u001b[0m\u001b[1;33m,\u001b[0m \u001b[0mpressArr\u001b[0m\u001b[1;33m,\u001b[0m \u001b[0mreleaseArr\u001b[0m \u001b[1;33m=\u001b[0m\u001b[0;31m \u001b[0m\u001b[0;31m\\\u001b[0m\u001b[1;33m\u001b[0m\u001b[1;33m\u001b[0m\u001b[0m\n\u001b[1;32m---> 13\u001b[1;33m                 \u001b[0mnq\u001b[0m\u001b[1;33m.\u001b[0m\u001b[0mgetDataFiltHelper\u001b[0m\u001b[1;33m(\u001b[0m \u001b[1;34m'MIT-CS1PD/data_MIT-CS1PD/'\u001b[0m \u001b[1;33m+\u001b[0m \u001b[0mcs1PdFr\u001b[0m\u001b[1;33m.\u001b[0m\u001b[0mloc\u001b[0m\u001b[1;33m[\u001b[0m\u001b[0mname\u001b[0m\u001b[1;33m]\u001b[0m\u001b[1;33m[\u001b[0m\u001b[0mfilename\u001b[0m\u001b[1;33m]\u001b[0m\u001b[1;33m)\u001b[0m\u001b[1;33m\u001b[0m\u001b[1;33m\u001b[0m\u001b[0m\n\u001b[0m\u001b[0;32m     14\u001b[0m         \u001b[0marr\u001b[0m \u001b[1;33m=\u001b[0m \u001b[0mnp\u001b[0m\u001b[1;33m.\u001b[0m\u001b[0mappend\u001b[0m\u001b[1;33m(\u001b[0m\u001b[0marr\u001b[0m\u001b[1;33m,\u001b[0m \u001b[0mhtArr\u001b[0m\u001b[1;33m)\u001b[0m\u001b[1;33m\u001b[0m\u001b[1;33m\u001b[0m\u001b[0m\n\u001b[0;32m     15\u001b[0m         \u001b[0marr_press\u001b[0m \u001b[1;33m=\u001b[0m \u001b[0mnp\u001b[0m\u001b[1;33m.\u001b[0m\u001b[0mappend\u001b[0m\u001b[1;33m(\u001b[0m\u001b[0marr_press\u001b[0m\u001b[1;33m,\u001b[0m \u001b[0mpressArr\u001b[0m\u001b[1;33m)\u001b[0m\u001b[1;33m\u001b[0m\u001b[1;33m\u001b[0m\u001b[0m\n",
      "\u001b[1;32m~\\Desktop\\科研\\ISEF\\final\\keyboard\\code\\nqDataLoader.py\u001b[0m in \u001b[0;36mgetDataFiltHelper\u001b[1;34m(fileIn, impType)\u001b[0m\n\u001b[0;32m    199\u001b[0m     \u001b[0mres\u001b[0m \u001b[1;33m=\u001b[0m \u001b[0mnqObj\u001b[0m\u001b[1;33m.\u001b[0m\u001b[0mloadDataFile\u001b[0m\u001b[1;33m(\u001b[0m \u001b[0mfileIn\u001b[0m\u001b[1;33m,\u001b[0m \u001b[1;32mFalse\u001b[0m\u001b[1;33m,\u001b[0m \u001b[0mimpType\u001b[0m\u001b[1;33m)\u001b[0m\u001b[1;33m\u001b[0m\u001b[1;33m\u001b[0m\u001b[0m\n\u001b[0;32m    200\u001b[0m     \u001b[1;31m# remove delete button\u001b[0m\u001b[1;33m\u001b[0m\u001b[1;33m\u001b[0m\u001b[1;33m\u001b[0m\u001b[0m\n\u001b[1;32m--> 201\u001b[1;33m     \u001b[0mnqObj\u001b[0m\u001b[1;33m.\u001b[0m\u001b[0mfiltData\u001b[0m\u001b[1;33m(\u001b[0m\u001b[0mnqObj\u001b[0m\u001b[1;33m.\u001b[0m\u001b[0mFLT_NO_MOUSE\u001b[0m  \u001b[1;33m|\u001b[0m \u001b[0mnqObj\u001b[0m\u001b[1;33m.\u001b[0m\u001b[0mFLT_NO_LONG_META\u001b[0m \u001b[1;33m|\u001b[0m \u001b[0mnqObj\u001b[0m\u001b[1;33m.\u001b[0m\u001b[0mFLT_NO_BACK\u001b[0m \u001b[1;33m)\u001b[0m\u001b[1;33m\u001b[0m\u001b[1;33m\u001b[0m\u001b[0m\n\u001b[0m\u001b[0;32m    202\u001b[0m     \u001b[1;32massert\u001b[0m\u001b[1;33m(\u001b[0m\u001b[0mres\u001b[0m\u001b[1;33m==\u001b[0m\u001b[1;32mTrue\u001b[0m\u001b[1;33m)\u001b[0m \u001b[1;31m# make sure the file exists\u001b[0m\u001b[1;33m\u001b[0m\u001b[1;33m\u001b[0m\u001b[0m\n\u001b[0;32m    203\u001b[0m     \u001b[0mdataKeys\u001b[0m \u001b[1;33m=\u001b[0m \u001b[0mnqObj\u001b[0m\u001b[1;33m.\u001b[0m\u001b[0mdataKeys\u001b[0m\u001b[1;33m\u001b[0m\u001b[1;33m\u001b[0m\u001b[0m\n",
      "\u001b[1;32m~\\Desktop\\科研\\ISEF\\final\\keyboard\\code\\nqDataLoader.py\u001b[0m in \u001b[0;36mfiltData\u001b[1;34m(self, flags)\u001b[0m\n\u001b[0;32m    144\u001b[0m         \u001b[0mlbl\u001b[0m \u001b[1;33m=\u001b[0m \u001b[0mnp\u001b[0m\u001b[1;33m.\u001b[0m\u001b[0mones\u001b[0m\u001b[1;33m(\u001b[0m\u001b[0mlen\u001b[0m\u001b[1;33m(\u001b[0m \u001b[0mself\u001b[0m\u001b[1;33m.\u001b[0m\u001b[0mdataKeys\u001b[0m \u001b[1;33m)\u001b[0m\u001b[1;33m)\u001b[0m\u001b[1;33m==\u001b[0m\u001b[1;36m1\u001b[0m\u001b[1;33m\u001b[0m\u001b[1;33m\u001b[0m\u001b[0m\n\u001b[0;32m    145\u001b[0m         \u001b[1;32mif\u001b[0m\u001b[1;33m(\u001b[0m \u001b[0mflags\u001b[0m \u001b[1;33m&\u001b[0m \u001b[0mself\u001b[0m\u001b[1;33m.\u001b[0m\u001b[0mFLT_NO_MOUSE\u001b[0m \u001b[1;33m)\u001b[0m\u001b[1;33m:\u001b[0m\u001b[1;33m\u001b[0m\u001b[1;33m\u001b[0m\u001b[0m\n\u001b[1;32m--> 146\u001b[1;33m             \u001b[0mlblTmp\u001b[0m \u001b[1;33m=\u001b[0m \u001b[1;33m[\u001b[0m \u001b[0mpMouse\u001b[0m\u001b[1;33m.\u001b[0m\u001b[0mmatch\u001b[0m\u001b[1;33m(\u001b[0m \u001b[0mk\u001b[0m \u001b[1;33m)\u001b[0m \u001b[1;32mis\u001b[0m \u001b[1;32mNone\u001b[0m \u001b[1;32mfor\u001b[0m \u001b[0mk\u001b[0m \u001b[1;32min\u001b[0m \u001b[0mself\u001b[0m\u001b[1;33m.\u001b[0m\u001b[0mdataKeys\u001b[0m\u001b[1;33m]\u001b[0m\u001b[1;33m\u001b[0m\u001b[1;33m\u001b[0m\u001b[0m\n\u001b[0m\u001b[0;32m    147\u001b[0m             \u001b[0mlbl\u001b[0m \u001b[1;33m=\u001b[0m \u001b[0mlbl\u001b[0m \u001b[1;33m&\u001b[0m \u001b[0mlblTmp\u001b[0m\u001b[1;33m\u001b[0m\u001b[1;33m\u001b[0m\u001b[0m\n\u001b[0;32m    148\u001b[0m         \u001b[1;32mif\u001b[0m\u001b[1;33m(\u001b[0m \u001b[0mflags\u001b[0m \u001b[1;33m&\u001b[0m \u001b[0mself\u001b[0m\u001b[1;33m.\u001b[0m\u001b[0mFLT_NO_LETTERS\u001b[0m \u001b[1;33m)\u001b[0m\u001b[1;33m:\u001b[0m\u001b[1;33m\u001b[0m\u001b[1;33m\u001b[0m\u001b[0m\n",
      "\u001b[1;32m~\\Desktop\\科研\\ISEF\\final\\keyboard\\code\\nqDataLoader.py\u001b[0m in \u001b[0;36m<listcomp>\u001b[1;34m(.0)\u001b[0m\n\u001b[0;32m    144\u001b[0m         \u001b[0mlbl\u001b[0m \u001b[1;33m=\u001b[0m \u001b[0mnp\u001b[0m\u001b[1;33m.\u001b[0m\u001b[0mones\u001b[0m\u001b[1;33m(\u001b[0m\u001b[0mlen\u001b[0m\u001b[1;33m(\u001b[0m \u001b[0mself\u001b[0m\u001b[1;33m.\u001b[0m\u001b[0mdataKeys\u001b[0m \u001b[1;33m)\u001b[0m\u001b[1;33m)\u001b[0m\u001b[1;33m==\u001b[0m\u001b[1;36m1\u001b[0m\u001b[1;33m\u001b[0m\u001b[1;33m\u001b[0m\u001b[0m\n\u001b[0;32m    145\u001b[0m         \u001b[1;32mif\u001b[0m\u001b[1;33m(\u001b[0m \u001b[0mflags\u001b[0m \u001b[1;33m&\u001b[0m \u001b[0mself\u001b[0m\u001b[1;33m.\u001b[0m\u001b[0mFLT_NO_MOUSE\u001b[0m \u001b[1;33m)\u001b[0m\u001b[1;33m:\u001b[0m\u001b[1;33m\u001b[0m\u001b[1;33m\u001b[0m\u001b[0m\n\u001b[1;32m--> 146\u001b[1;33m             \u001b[0mlblTmp\u001b[0m \u001b[1;33m=\u001b[0m \u001b[1;33m[\u001b[0m \u001b[0mpMouse\u001b[0m\u001b[1;33m.\u001b[0m\u001b[0mmatch\u001b[0m\u001b[1;33m(\u001b[0m \u001b[0mk\u001b[0m \u001b[1;33m)\u001b[0m \u001b[1;32mis\u001b[0m \u001b[1;32mNone\u001b[0m \u001b[1;32mfor\u001b[0m \u001b[0mk\u001b[0m \u001b[1;32min\u001b[0m \u001b[0mself\u001b[0m\u001b[1;33m.\u001b[0m\u001b[0mdataKeys\u001b[0m\u001b[1;33m]\u001b[0m\u001b[1;33m\u001b[0m\u001b[1;33m\u001b[0m\u001b[0m\n\u001b[0m\u001b[0;32m    147\u001b[0m             \u001b[0mlbl\u001b[0m \u001b[1;33m=\u001b[0m \u001b[0mlbl\u001b[0m \u001b[1;33m&\u001b[0m \u001b[0mlblTmp\u001b[0m\u001b[1;33m\u001b[0m\u001b[1;33m\u001b[0m\u001b[0m\n\u001b[0;32m    148\u001b[0m         \u001b[1;32mif\u001b[0m\u001b[1;33m(\u001b[0m \u001b[0mflags\u001b[0m \u001b[1;33m&\u001b[0m \u001b[0mself\u001b[0m\u001b[1;33m.\u001b[0m\u001b[0mFLT_NO_LETTERS\u001b[0m \u001b[1;33m)\u001b[0m\u001b[1;33m:\u001b[0m\u001b[1;33m\u001b[0m\u001b[1;33m\u001b[0m\u001b[0m\n",
      "\u001b[1;31mTypeError\u001b[0m: cannot use a string pattern on a bytes-like object"
     ]
    }
   ],
   "source": [
    "filenames = ['file_1', 'file_2']\n",
    "patients = pd.DataFrame(columns=['id', 'hold', 'label'])\n",
    "def load_all(record):\n",
    "    global filenames, patients\n",
    "    name = record.name\n",
    "    \n",
    "    arr = np.empty(shape=(0, 0))\n",
    "    arr_press = np.empty(shape=(0, 0))\n",
    "    arr_release = np.empty(shape=(0, 0))\n",
    "    keyp = pd.Series()\n",
    "    for filename in filenames:\n",
    "        keyPressed, htArr, pressArr, releaseArr = \\\n",
    "                nq.getDataFiltHelper( 'MIT-CS1PD/data_MIT-CS1PD/' + cs1PdFr.loc[name][filename])\n",
    "        arr = np.append(arr, htArr)\n",
    "        arr_press = np.append(arr_press, pressArr)\n",
    "        arr_release = np.append(arr_release, releaseArr)\n",
    "        keyp = keyp.append(pd.Series(keyPressed))\n",
    "        \n",
    "    patients = patients.append({'id': name, 'hold': arr, 'key': keyp, 'label': record['gt'], 'press': arr_press, \n",
    "                               'release': arr_release}, ignore_index=True)\n",
    "    \n",
    "    return True\n",
    "\n",
    "def load_all_d2(record):\n",
    "    global patients\n",
    "    filenames = ['file_1']\n",
    "    name = record.name\n",
    "    \n",
    "    arr = np.empty(shape=(0, 0))\n",
    "    arr_press = np.empty(shape=(0, 0))\n",
    "    arr_release = np.empty(shape=(0, 0))\n",
    "    keyp = pd.Series()\n",
    "    for filename in filenames:\n",
    "        keyPressed, htArr, pressArr, releaseArr = \\\n",
    "                nq.getDataFiltHelper( 'MIT-CS2PD/data_MIT-CS2PD/' + cs2PdFr.loc[name][filename])\n",
    "        arr = np.append(arr, htArr)\n",
    "        arr_press = np.append(arr_press, pressArr)\n",
    "        arr_release = np.append(arr_release, releaseArr)\n",
    "        keyp = keyp.append(pd.Series(keyPressed))\n",
    "        \n",
    "    patients = patients.append({'id': name, 'hold': arr, 'key': keyp, 'label': record['gt'], 'press': arr_press, \n",
    "                               'release': arr_release}, ignore_index=True)\n",
    "    return True\n",
    "\n",
    "def remove_quotes(row):    \n",
    "    return list(row.apply(lambda x: x.replace('\"', '')))\n",
    "print(cs1PdFr)\n",
    "    \n",
    "tmp = cs1PdFr.apply(lambda x: load_all(x), axis=1)\n",
    "tmp = cs2PdFr.apply(lambda x: load_all_d2(x), axis=1)\n",
    "\n",
    "patients.set_index('id', inplace=True)\n",
    "# print(patients['key'])\n",
    "patients['key'] = patients['key'].apply(lambda x: remove_quotes(x))\n"
   ]
  },
  {
   "cell_type": "markdown",
   "metadata": {},
   "source": [
    "### Encoding A"
   ]
  },
  {
   "cell_type": "code",
   "execution_count": 6,
   "metadata": {},
   "outputs": [
    {
     "ename": "FileNotFoundError",
     "evalue": "[Errno 2] No such file or directory: '/MIT-CS1PD/data_MIT-CS1PD/1402930351.011_001_014.csv'",
     "output_type": "error",
     "traceback": [
      "\u001b[1;31m---------------------------------------------------------------------------\u001b[0m",
      "\u001b[1;31mFileNotFoundError\u001b[0m                         Traceback (most recent call last)",
      "\u001b[1;32m<ipython-input-6-d9a1efb88f9c>\u001b[0m in \u001b[0;36m<module>\u001b[1;34m\u001b[0m\n\u001b[0;32m      1\u001b[0m \u001b[1;32mimport\u001b[0m \u001b[0mpandas\u001b[0m \u001b[1;32mas\u001b[0m \u001b[0mpf\u001b[0m\u001b[1;33m\u001b[0m\u001b[1;33m\u001b[0m\u001b[0m\n\u001b[1;32m----> 2\u001b[1;33m \u001b[0mfile\u001b[0m \u001b[1;33m=\u001b[0m \u001b[0mpf\u001b[0m\u001b[1;33m.\u001b[0m\u001b[0mread_csv\u001b[0m\u001b[1;33m(\u001b[0m\u001b[1;34m'/MIT-CS1PD/data_MIT-CS1PD/1402930351.011_001_014.csv'\u001b[0m\u001b[1;33m)\u001b[0m\u001b[1;33m\u001b[0m\u001b[1;33m\u001b[0m\u001b[0m\n\u001b[0m\u001b[0;32m      3\u001b[0m \u001b[0mprint\u001b[0m\u001b[1;33m(\u001b[0m\u001b[0mfile\u001b[0m\u001b[1;33m)\u001b[0m\u001b[1;33m\u001b[0m\u001b[1;33m\u001b[0m\u001b[0m\n",
      "\u001b[1;32m~\\anaconda3\\envs\\tensorflow_gpu\\lib\\site-packages\\pandas\\io\\parsers.py\u001b[0m in \u001b[0;36mread_csv\u001b[1;34m(filepath_or_buffer, sep, delimiter, header, names, index_col, usecols, squeeze, prefix, mangle_dupe_cols, dtype, engine, converters, true_values, false_values, skipinitialspace, skiprows, skipfooter, nrows, na_values, keep_default_na, na_filter, verbose, skip_blank_lines, parse_dates, infer_datetime_format, keep_date_col, date_parser, dayfirst, cache_dates, iterator, chunksize, compression, thousands, decimal, lineterminator, quotechar, quoting, doublequote, escapechar, comment, encoding, dialect, error_bad_lines, warn_bad_lines, delim_whitespace, low_memory, memory_map, float_precision)\u001b[0m\n\u001b[0;32m    686\u001b[0m     )\n\u001b[0;32m    687\u001b[0m \u001b[1;33m\u001b[0m\u001b[0m\n\u001b[1;32m--> 688\u001b[1;33m     \u001b[1;32mreturn\u001b[0m \u001b[0m_read\u001b[0m\u001b[1;33m(\u001b[0m\u001b[0mfilepath_or_buffer\u001b[0m\u001b[1;33m,\u001b[0m \u001b[0mkwds\u001b[0m\u001b[1;33m)\u001b[0m\u001b[1;33m\u001b[0m\u001b[1;33m\u001b[0m\u001b[0m\n\u001b[0m\u001b[0;32m    689\u001b[0m \u001b[1;33m\u001b[0m\u001b[0m\n\u001b[0;32m    690\u001b[0m \u001b[1;33m\u001b[0m\u001b[0m\n",
      "\u001b[1;32m~\\anaconda3\\envs\\tensorflow_gpu\\lib\\site-packages\\pandas\\io\\parsers.py\u001b[0m in \u001b[0;36m_read\u001b[1;34m(filepath_or_buffer, kwds)\u001b[0m\n\u001b[0;32m    452\u001b[0m \u001b[1;33m\u001b[0m\u001b[0m\n\u001b[0;32m    453\u001b[0m     \u001b[1;31m# Create the parser.\u001b[0m\u001b[1;33m\u001b[0m\u001b[1;33m\u001b[0m\u001b[1;33m\u001b[0m\u001b[0m\n\u001b[1;32m--> 454\u001b[1;33m     \u001b[0mparser\u001b[0m \u001b[1;33m=\u001b[0m \u001b[0mTextFileReader\u001b[0m\u001b[1;33m(\u001b[0m\u001b[0mfp_or_buf\u001b[0m\u001b[1;33m,\u001b[0m \u001b[1;33m**\u001b[0m\u001b[0mkwds\u001b[0m\u001b[1;33m)\u001b[0m\u001b[1;33m\u001b[0m\u001b[1;33m\u001b[0m\u001b[0m\n\u001b[0m\u001b[0;32m    455\u001b[0m \u001b[1;33m\u001b[0m\u001b[0m\n\u001b[0;32m    456\u001b[0m     \u001b[1;32mif\u001b[0m \u001b[0mchunksize\u001b[0m \u001b[1;32mor\u001b[0m \u001b[0miterator\u001b[0m\u001b[1;33m:\u001b[0m\u001b[1;33m\u001b[0m\u001b[1;33m\u001b[0m\u001b[0m\n",
      "\u001b[1;32m~\\anaconda3\\envs\\tensorflow_gpu\\lib\\site-packages\\pandas\\io\\parsers.py\u001b[0m in \u001b[0;36m__init__\u001b[1;34m(self, f, engine, **kwds)\u001b[0m\n\u001b[0;32m    946\u001b[0m             \u001b[0mself\u001b[0m\u001b[1;33m.\u001b[0m\u001b[0moptions\u001b[0m\u001b[1;33m[\u001b[0m\u001b[1;34m\"has_index_names\"\u001b[0m\u001b[1;33m]\u001b[0m \u001b[1;33m=\u001b[0m \u001b[0mkwds\u001b[0m\u001b[1;33m[\u001b[0m\u001b[1;34m\"has_index_names\"\u001b[0m\u001b[1;33m]\u001b[0m\u001b[1;33m\u001b[0m\u001b[1;33m\u001b[0m\u001b[0m\n\u001b[0;32m    947\u001b[0m \u001b[1;33m\u001b[0m\u001b[0m\n\u001b[1;32m--> 948\u001b[1;33m         \u001b[0mself\u001b[0m\u001b[1;33m.\u001b[0m\u001b[0m_make_engine\u001b[0m\u001b[1;33m(\u001b[0m\u001b[0mself\u001b[0m\u001b[1;33m.\u001b[0m\u001b[0mengine\u001b[0m\u001b[1;33m)\u001b[0m\u001b[1;33m\u001b[0m\u001b[1;33m\u001b[0m\u001b[0m\n\u001b[0m\u001b[0;32m    949\u001b[0m \u001b[1;33m\u001b[0m\u001b[0m\n\u001b[0;32m    950\u001b[0m     \u001b[1;32mdef\u001b[0m \u001b[0mclose\u001b[0m\u001b[1;33m(\u001b[0m\u001b[0mself\u001b[0m\u001b[1;33m)\u001b[0m\u001b[1;33m:\u001b[0m\u001b[1;33m\u001b[0m\u001b[1;33m\u001b[0m\u001b[0m\n",
      "\u001b[1;32m~\\anaconda3\\envs\\tensorflow_gpu\\lib\\site-packages\\pandas\\io\\parsers.py\u001b[0m in \u001b[0;36m_make_engine\u001b[1;34m(self, engine)\u001b[0m\n\u001b[0;32m   1178\u001b[0m     \u001b[1;32mdef\u001b[0m \u001b[0m_make_engine\u001b[0m\u001b[1;33m(\u001b[0m\u001b[0mself\u001b[0m\u001b[1;33m,\u001b[0m \u001b[0mengine\u001b[0m\u001b[1;33m=\u001b[0m\u001b[1;34m\"c\"\u001b[0m\u001b[1;33m)\u001b[0m\u001b[1;33m:\u001b[0m\u001b[1;33m\u001b[0m\u001b[1;33m\u001b[0m\u001b[0m\n\u001b[0;32m   1179\u001b[0m         \u001b[1;32mif\u001b[0m \u001b[0mengine\u001b[0m \u001b[1;33m==\u001b[0m \u001b[1;34m\"c\"\u001b[0m\u001b[1;33m:\u001b[0m\u001b[1;33m\u001b[0m\u001b[1;33m\u001b[0m\u001b[0m\n\u001b[1;32m-> 1180\u001b[1;33m             \u001b[0mself\u001b[0m\u001b[1;33m.\u001b[0m\u001b[0m_engine\u001b[0m \u001b[1;33m=\u001b[0m \u001b[0mCParserWrapper\u001b[0m\u001b[1;33m(\u001b[0m\u001b[0mself\u001b[0m\u001b[1;33m.\u001b[0m\u001b[0mf\u001b[0m\u001b[1;33m,\u001b[0m \u001b[1;33m**\u001b[0m\u001b[0mself\u001b[0m\u001b[1;33m.\u001b[0m\u001b[0moptions\u001b[0m\u001b[1;33m)\u001b[0m\u001b[1;33m\u001b[0m\u001b[1;33m\u001b[0m\u001b[0m\n\u001b[0m\u001b[0;32m   1181\u001b[0m         \u001b[1;32melse\u001b[0m\u001b[1;33m:\u001b[0m\u001b[1;33m\u001b[0m\u001b[1;33m\u001b[0m\u001b[0m\n\u001b[0;32m   1182\u001b[0m             \u001b[1;32mif\u001b[0m \u001b[0mengine\u001b[0m \u001b[1;33m==\u001b[0m \u001b[1;34m\"python\"\u001b[0m\u001b[1;33m:\u001b[0m\u001b[1;33m\u001b[0m\u001b[1;33m\u001b[0m\u001b[0m\n",
      "\u001b[1;32m~\\anaconda3\\envs\\tensorflow_gpu\\lib\\site-packages\\pandas\\io\\parsers.py\u001b[0m in \u001b[0;36m__init__\u001b[1;34m(self, src, **kwds)\u001b[0m\n\u001b[0;32m   2008\u001b[0m         \u001b[0mkwds\u001b[0m\u001b[1;33m[\u001b[0m\u001b[1;34m\"usecols\"\u001b[0m\u001b[1;33m]\u001b[0m \u001b[1;33m=\u001b[0m \u001b[0mself\u001b[0m\u001b[1;33m.\u001b[0m\u001b[0musecols\u001b[0m\u001b[1;33m\u001b[0m\u001b[1;33m\u001b[0m\u001b[0m\n\u001b[0;32m   2009\u001b[0m \u001b[1;33m\u001b[0m\u001b[0m\n\u001b[1;32m-> 2010\u001b[1;33m         \u001b[0mself\u001b[0m\u001b[1;33m.\u001b[0m\u001b[0m_reader\u001b[0m \u001b[1;33m=\u001b[0m \u001b[0mparsers\u001b[0m\u001b[1;33m.\u001b[0m\u001b[0mTextReader\u001b[0m\u001b[1;33m(\u001b[0m\u001b[0msrc\u001b[0m\u001b[1;33m,\u001b[0m \u001b[1;33m**\u001b[0m\u001b[0mkwds\u001b[0m\u001b[1;33m)\u001b[0m\u001b[1;33m\u001b[0m\u001b[1;33m\u001b[0m\u001b[0m\n\u001b[0m\u001b[0;32m   2011\u001b[0m         \u001b[0mself\u001b[0m\u001b[1;33m.\u001b[0m\u001b[0munnamed_cols\u001b[0m \u001b[1;33m=\u001b[0m \u001b[0mself\u001b[0m\u001b[1;33m.\u001b[0m\u001b[0m_reader\u001b[0m\u001b[1;33m.\u001b[0m\u001b[0munnamed_cols\u001b[0m\u001b[1;33m\u001b[0m\u001b[1;33m\u001b[0m\u001b[0m\n\u001b[0;32m   2012\u001b[0m \u001b[1;33m\u001b[0m\u001b[0m\n",
      "\u001b[1;32mpandas\\_libs\\parsers.pyx\u001b[0m in \u001b[0;36mpandas._libs.parsers.TextReader.__cinit__\u001b[1;34m()\u001b[0m\n",
      "\u001b[1;32mpandas\\_libs\\parsers.pyx\u001b[0m in \u001b[0;36mpandas._libs.parsers.TextReader._setup_parser_source\u001b[1;34m()\u001b[0m\n",
      "\u001b[1;31mFileNotFoundError\u001b[0m: [Errno 2] No such file or directory: '/MIT-CS1PD/data_MIT-CS1PD/1402930351.011_001_014.csv'"
     ]
    }
   ],
   "source": [
    "import pandas as pf\n",
    "file = pf.read_csv('/MIT-CS1PD/data_MIT-CS1PD/1402930351.011_001_014.csv')\n",
    "print(file)"
   ]
  },
  {
   "cell_type": "code",
   "execution_count": 7,
   "metadata": {},
   "outputs": [
    {
     "ename": "FileNotFoundError",
     "evalue": "[Errno 2] No such file or directory: '/home/qls/deep-learning-pd/MIT-CS1PD/data_MIT-CS1PD/1403706430.011_003_014.csv'",
     "output_type": "error",
     "traceback": [
      "\u001b[1;31m---------------------------------------------------------------------------\u001b[0m",
      "\u001b[1;31mFileNotFoundError\u001b[0m                         Traceback (most recent call last)",
      "\u001b[1;32m<ipython-input-7-2b24a6c7fe19>\u001b[0m in \u001b[0;36m<module>\u001b[1;34m\u001b[0m\n\u001b[0;32m      1\u001b[0m \u001b[1;32mimport\u001b[0m \u001b[0mpandas\u001b[0m \u001b[1;32mas\u001b[0m \u001b[0mpf\u001b[0m\u001b[1;33m\u001b[0m\u001b[1;33m\u001b[0m\u001b[0m\n\u001b[1;32m----> 2\u001b[1;33m \u001b[0mfile\u001b[0m \u001b[1;33m=\u001b[0m \u001b[0mpf\u001b[0m\u001b[1;33m.\u001b[0m\u001b[0mread_csv\u001b[0m\u001b[1;33m(\u001b[0m\u001b[1;34m'/home/qls/deep-learning-pd/MIT-CS1PD/data_MIT-CS1PD/1403706430.011_003_014.csv'\u001b[0m\u001b[1;33m)\u001b[0m\u001b[1;33m\u001b[0m\u001b[1;33m\u001b[0m\u001b[0m\n\u001b[0m\u001b[0;32m      3\u001b[0m \u001b[0mprint\u001b[0m\u001b[1;33m(\u001b[0m\u001b[0mfile\u001b[0m\u001b[1;33m)\u001b[0m\u001b[1;33m\u001b[0m\u001b[1;33m\u001b[0m\u001b[0m\n",
      "\u001b[1;32m~\\anaconda3\\envs\\tensorflow_gpu\\lib\\site-packages\\pandas\\io\\parsers.py\u001b[0m in \u001b[0;36mread_csv\u001b[1;34m(filepath_or_buffer, sep, delimiter, header, names, index_col, usecols, squeeze, prefix, mangle_dupe_cols, dtype, engine, converters, true_values, false_values, skipinitialspace, skiprows, skipfooter, nrows, na_values, keep_default_na, na_filter, verbose, skip_blank_lines, parse_dates, infer_datetime_format, keep_date_col, date_parser, dayfirst, cache_dates, iterator, chunksize, compression, thousands, decimal, lineterminator, quotechar, quoting, doublequote, escapechar, comment, encoding, dialect, error_bad_lines, warn_bad_lines, delim_whitespace, low_memory, memory_map, float_precision)\u001b[0m\n\u001b[0;32m    686\u001b[0m     )\n\u001b[0;32m    687\u001b[0m \u001b[1;33m\u001b[0m\u001b[0m\n\u001b[1;32m--> 688\u001b[1;33m     \u001b[1;32mreturn\u001b[0m \u001b[0m_read\u001b[0m\u001b[1;33m(\u001b[0m\u001b[0mfilepath_or_buffer\u001b[0m\u001b[1;33m,\u001b[0m \u001b[0mkwds\u001b[0m\u001b[1;33m)\u001b[0m\u001b[1;33m\u001b[0m\u001b[1;33m\u001b[0m\u001b[0m\n\u001b[0m\u001b[0;32m    689\u001b[0m \u001b[1;33m\u001b[0m\u001b[0m\n\u001b[0;32m    690\u001b[0m \u001b[1;33m\u001b[0m\u001b[0m\n",
      "\u001b[1;32m~\\anaconda3\\envs\\tensorflow_gpu\\lib\\site-packages\\pandas\\io\\parsers.py\u001b[0m in \u001b[0;36m_read\u001b[1;34m(filepath_or_buffer, kwds)\u001b[0m\n\u001b[0;32m    452\u001b[0m \u001b[1;33m\u001b[0m\u001b[0m\n\u001b[0;32m    453\u001b[0m     \u001b[1;31m# Create the parser.\u001b[0m\u001b[1;33m\u001b[0m\u001b[1;33m\u001b[0m\u001b[1;33m\u001b[0m\u001b[0m\n\u001b[1;32m--> 454\u001b[1;33m     \u001b[0mparser\u001b[0m \u001b[1;33m=\u001b[0m \u001b[0mTextFileReader\u001b[0m\u001b[1;33m(\u001b[0m\u001b[0mfp_or_buf\u001b[0m\u001b[1;33m,\u001b[0m \u001b[1;33m**\u001b[0m\u001b[0mkwds\u001b[0m\u001b[1;33m)\u001b[0m\u001b[1;33m\u001b[0m\u001b[1;33m\u001b[0m\u001b[0m\n\u001b[0m\u001b[0;32m    455\u001b[0m \u001b[1;33m\u001b[0m\u001b[0m\n\u001b[0;32m    456\u001b[0m     \u001b[1;32mif\u001b[0m \u001b[0mchunksize\u001b[0m \u001b[1;32mor\u001b[0m \u001b[0miterator\u001b[0m\u001b[1;33m:\u001b[0m\u001b[1;33m\u001b[0m\u001b[1;33m\u001b[0m\u001b[0m\n",
      "\u001b[1;32m~\\anaconda3\\envs\\tensorflow_gpu\\lib\\site-packages\\pandas\\io\\parsers.py\u001b[0m in \u001b[0;36m__init__\u001b[1;34m(self, f, engine, **kwds)\u001b[0m\n\u001b[0;32m    946\u001b[0m             \u001b[0mself\u001b[0m\u001b[1;33m.\u001b[0m\u001b[0moptions\u001b[0m\u001b[1;33m[\u001b[0m\u001b[1;34m\"has_index_names\"\u001b[0m\u001b[1;33m]\u001b[0m \u001b[1;33m=\u001b[0m \u001b[0mkwds\u001b[0m\u001b[1;33m[\u001b[0m\u001b[1;34m\"has_index_names\"\u001b[0m\u001b[1;33m]\u001b[0m\u001b[1;33m\u001b[0m\u001b[1;33m\u001b[0m\u001b[0m\n\u001b[0;32m    947\u001b[0m \u001b[1;33m\u001b[0m\u001b[0m\n\u001b[1;32m--> 948\u001b[1;33m         \u001b[0mself\u001b[0m\u001b[1;33m.\u001b[0m\u001b[0m_make_engine\u001b[0m\u001b[1;33m(\u001b[0m\u001b[0mself\u001b[0m\u001b[1;33m.\u001b[0m\u001b[0mengine\u001b[0m\u001b[1;33m)\u001b[0m\u001b[1;33m\u001b[0m\u001b[1;33m\u001b[0m\u001b[0m\n\u001b[0m\u001b[0;32m    949\u001b[0m \u001b[1;33m\u001b[0m\u001b[0m\n\u001b[0;32m    950\u001b[0m     \u001b[1;32mdef\u001b[0m \u001b[0mclose\u001b[0m\u001b[1;33m(\u001b[0m\u001b[0mself\u001b[0m\u001b[1;33m)\u001b[0m\u001b[1;33m:\u001b[0m\u001b[1;33m\u001b[0m\u001b[1;33m\u001b[0m\u001b[0m\n",
      "\u001b[1;32m~\\anaconda3\\envs\\tensorflow_gpu\\lib\\site-packages\\pandas\\io\\parsers.py\u001b[0m in \u001b[0;36m_make_engine\u001b[1;34m(self, engine)\u001b[0m\n\u001b[0;32m   1178\u001b[0m     \u001b[1;32mdef\u001b[0m \u001b[0m_make_engine\u001b[0m\u001b[1;33m(\u001b[0m\u001b[0mself\u001b[0m\u001b[1;33m,\u001b[0m \u001b[0mengine\u001b[0m\u001b[1;33m=\u001b[0m\u001b[1;34m\"c\"\u001b[0m\u001b[1;33m)\u001b[0m\u001b[1;33m:\u001b[0m\u001b[1;33m\u001b[0m\u001b[1;33m\u001b[0m\u001b[0m\n\u001b[0;32m   1179\u001b[0m         \u001b[1;32mif\u001b[0m \u001b[0mengine\u001b[0m \u001b[1;33m==\u001b[0m \u001b[1;34m\"c\"\u001b[0m\u001b[1;33m:\u001b[0m\u001b[1;33m\u001b[0m\u001b[1;33m\u001b[0m\u001b[0m\n\u001b[1;32m-> 1180\u001b[1;33m             \u001b[0mself\u001b[0m\u001b[1;33m.\u001b[0m\u001b[0m_engine\u001b[0m \u001b[1;33m=\u001b[0m \u001b[0mCParserWrapper\u001b[0m\u001b[1;33m(\u001b[0m\u001b[0mself\u001b[0m\u001b[1;33m.\u001b[0m\u001b[0mf\u001b[0m\u001b[1;33m,\u001b[0m \u001b[1;33m**\u001b[0m\u001b[0mself\u001b[0m\u001b[1;33m.\u001b[0m\u001b[0moptions\u001b[0m\u001b[1;33m)\u001b[0m\u001b[1;33m\u001b[0m\u001b[1;33m\u001b[0m\u001b[0m\n\u001b[0m\u001b[0;32m   1181\u001b[0m         \u001b[1;32melse\u001b[0m\u001b[1;33m:\u001b[0m\u001b[1;33m\u001b[0m\u001b[1;33m\u001b[0m\u001b[0m\n\u001b[0;32m   1182\u001b[0m             \u001b[1;32mif\u001b[0m \u001b[0mengine\u001b[0m \u001b[1;33m==\u001b[0m \u001b[1;34m\"python\"\u001b[0m\u001b[1;33m:\u001b[0m\u001b[1;33m\u001b[0m\u001b[1;33m\u001b[0m\u001b[0m\n",
      "\u001b[1;32m~\\anaconda3\\envs\\tensorflow_gpu\\lib\\site-packages\\pandas\\io\\parsers.py\u001b[0m in \u001b[0;36m__init__\u001b[1;34m(self, src, **kwds)\u001b[0m\n\u001b[0;32m   2008\u001b[0m         \u001b[0mkwds\u001b[0m\u001b[1;33m[\u001b[0m\u001b[1;34m\"usecols\"\u001b[0m\u001b[1;33m]\u001b[0m \u001b[1;33m=\u001b[0m \u001b[0mself\u001b[0m\u001b[1;33m.\u001b[0m\u001b[0musecols\u001b[0m\u001b[1;33m\u001b[0m\u001b[1;33m\u001b[0m\u001b[0m\n\u001b[0;32m   2009\u001b[0m \u001b[1;33m\u001b[0m\u001b[0m\n\u001b[1;32m-> 2010\u001b[1;33m         \u001b[0mself\u001b[0m\u001b[1;33m.\u001b[0m\u001b[0m_reader\u001b[0m \u001b[1;33m=\u001b[0m \u001b[0mparsers\u001b[0m\u001b[1;33m.\u001b[0m\u001b[0mTextReader\u001b[0m\u001b[1;33m(\u001b[0m\u001b[0msrc\u001b[0m\u001b[1;33m,\u001b[0m \u001b[1;33m**\u001b[0m\u001b[0mkwds\u001b[0m\u001b[1;33m)\u001b[0m\u001b[1;33m\u001b[0m\u001b[1;33m\u001b[0m\u001b[0m\n\u001b[0m\u001b[0;32m   2011\u001b[0m         \u001b[0mself\u001b[0m\u001b[1;33m.\u001b[0m\u001b[0munnamed_cols\u001b[0m \u001b[1;33m=\u001b[0m \u001b[0mself\u001b[0m\u001b[1;33m.\u001b[0m\u001b[0m_reader\u001b[0m\u001b[1;33m.\u001b[0m\u001b[0munnamed_cols\u001b[0m\u001b[1;33m\u001b[0m\u001b[1;33m\u001b[0m\u001b[0m\n\u001b[0;32m   2012\u001b[0m \u001b[1;33m\u001b[0m\u001b[0m\n",
      "\u001b[1;32mpandas\\_libs\\parsers.pyx\u001b[0m in \u001b[0;36mpandas._libs.parsers.TextReader.__cinit__\u001b[1;34m()\u001b[0m\n",
      "\u001b[1;32mpandas\\_libs\\parsers.pyx\u001b[0m in \u001b[0;36mpandas._libs.parsers.TextReader._setup_parser_source\u001b[1;34m()\u001b[0m\n",
      "\u001b[1;31mFileNotFoundError\u001b[0m: [Errno 2] No such file or directory: '/home/qls/deep-learning-pd/MIT-CS1PD/data_MIT-CS1PD/1403706430.011_003_014.csv'"
     ]
    }
   ],
   "source": [
    "import pandas as pf\n",
    "file = pf.read_csv('/home/qls/deep-learning-pd/MIT-CS1PD/data_MIT-CS1PD/1403706430.011_003_014.csv')\n",
    "print(file)"
   ]
  },
  {
   "cell_type": "code",
   "execution_count": 8,
   "metadata": {},
   "outputs": [],
   "source": [
    "frequency = 100  # Hz"
   ]
  },
  {
   "cell_type": "code",
   "execution_count": 9,
   "metadata": {},
   "outputs": [
    {
     "ename": "KeyError",
     "evalue": "11",
     "output_type": "error",
     "traceback": [
      "\u001b[1;31m---------------------------------------------------------------------------\u001b[0m",
      "\u001b[1;31mKeyError\u001b[0m                                  Traceback (most recent call last)",
      "\u001b[1;32m~\\anaconda3\\envs\\tensorflow_gpu\\lib\\site-packages\\pandas\\core\\indexes\\base.py\u001b[0m in \u001b[0;36mget_loc\u001b[1;34m(self, key, method, tolerance)\u001b[0m\n\u001b[0;32m   2897\u001b[0m             \u001b[1;32mtry\u001b[0m\u001b[1;33m:\u001b[0m\u001b[1;33m\u001b[0m\u001b[1;33m\u001b[0m\u001b[0m\n\u001b[1;32m-> 2898\u001b[1;33m                 \u001b[1;32mreturn\u001b[0m \u001b[0mself\u001b[0m\u001b[1;33m.\u001b[0m\u001b[0m_engine\u001b[0m\u001b[1;33m.\u001b[0m\u001b[0mget_loc\u001b[0m\u001b[1;33m(\u001b[0m\u001b[0mcasted_key\u001b[0m\u001b[1;33m)\u001b[0m\u001b[1;33m\u001b[0m\u001b[1;33m\u001b[0m\u001b[0m\n\u001b[0m\u001b[0;32m   2899\u001b[0m             \u001b[1;32mexcept\u001b[0m \u001b[0mKeyError\u001b[0m \u001b[1;32mas\u001b[0m \u001b[0merr\u001b[0m\u001b[1;33m:\u001b[0m\u001b[1;33m\u001b[0m\u001b[1;33m\u001b[0m\u001b[0m\n",
      "\u001b[1;32mpandas\\_libs\\index.pyx\u001b[0m in \u001b[0;36mpandas._libs.index.IndexEngine.get_loc\u001b[1;34m()\u001b[0m\n",
      "\u001b[1;32mpandas\\_libs\\index.pyx\u001b[0m in \u001b[0;36mpandas._libs.index.IndexEngine.get_loc\u001b[1;34m()\u001b[0m\n",
      "\u001b[1;32mpandas\\_libs\\hashtable_class_helper.pxi\u001b[0m in \u001b[0;36mpandas._libs.hashtable.PyObjectHashTable.get_item\u001b[1;34m()\u001b[0m\n",
      "\u001b[1;32mpandas\\_libs\\hashtable_class_helper.pxi\u001b[0m in \u001b[0;36mpandas._libs.hashtable.PyObjectHashTable.get_item\u001b[1;34m()\u001b[0m\n",
      "\u001b[1;31mKeyError\u001b[0m: 11",
      "\nThe above exception was the direct cause of the following exception:\n",
      "\u001b[1;31mKeyError\u001b[0m                                  Traceback (most recent call last)",
      "\u001b[1;32m<ipython-input-9-11ed796729ed>\u001b[0m in \u001b[0;36m<module>\u001b[1;34m\u001b[0m\n\u001b[1;32m----> 1\u001b[1;33m \u001b[0mprint\u001b[0m\u001b[1;33m(\u001b[0m\u001b[1;33m(\u001b[0m\u001b[0mpatients\u001b[0m\u001b[1;33m.\u001b[0m\u001b[0mloc\u001b[0m\u001b[1;33m[\u001b[0m\u001b[1;36m11\u001b[0m\u001b[1;33m]\u001b[0m\u001b[1;33m)\u001b[0m\u001b[1;33m.\u001b[0m\u001b[0mloc\u001b[0m\u001b[1;33m[\u001b[0m\u001b[1;34m'hold'\u001b[0m\u001b[1;33m]\u001b[0m\u001b[1;33m)\u001b[0m\u001b[1;33m\u001b[0m\u001b[1;33m\u001b[0m\u001b[0m\n\u001b[0m\u001b[0;32m      2\u001b[0m \u001b[0mprint\u001b[0m\u001b[1;33m(\u001b[0m\u001b[0mlen\u001b[0m\u001b[1;33m(\u001b[0m\u001b[1;33m(\u001b[0m\u001b[0mpatients\u001b[0m\u001b[1;33m.\u001b[0m\u001b[0mloc\u001b[0m\u001b[1;33m[\u001b[0m\u001b[1;36m11\u001b[0m\u001b[1;33m]\u001b[0m\u001b[1;33m)\u001b[0m\u001b[1;33m.\u001b[0m\u001b[0mloc\u001b[0m\u001b[1;33m[\u001b[0m\u001b[1;34m'hold'\u001b[0m\u001b[1;33m]\u001b[0m\u001b[1;33m)\u001b[0m\u001b[1;33m)\u001b[0m\u001b[1;33m\u001b[0m\u001b[1;33m\u001b[0m\u001b[0m\n\u001b[0;32m      3\u001b[0m \u001b[0mprint\u001b[0m\u001b[1;33m(\u001b[0m\u001b[0mlen\u001b[0m\u001b[1;33m(\u001b[0m\u001b[1;33m(\u001b[0m\u001b[0mpatients\u001b[0m\u001b[1;33m.\u001b[0m\u001b[0mloc\u001b[0m\u001b[1;33m[\u001b[0m\u001b[1;36m11\u001b[0m\u001b[1;33m]\u001b[0m\u001b[1;33m)\u001b[0m\u001b[1;33m.\u001b[0m\u001b[0mloc\u001b[0m\u001b[1;33m[\u001b[0m\u001b[1;34m'press'\u001b[0m\u001b[1;33m]\u001b[0m\u001b[1;33m)\u001b[0m\u001b[1;33m)\u001b[0m\u001b[1;33m\u001b[0m\u001b[1;33m\u001b[0m\u001b[0m\n\u001b[0;32m      4\u001b[0m \u001b[0mprint\u001b[0m\u001b[1;33m(\u001b[0m\u001b[0mlen\u001b[0m\u001b[1;33m(\u001b[0m\u001b[1;33m(\u001b[0m\u001b[0mpatients\u001b[0m\u001b[1;33m.\u001b[0m\u001b[0mloc\u001b[0m\u001b[1;33m[\u001b[0m\u001b[1;36m11\u001b[0m\u001b[1;33m]\u001b[0m\u001b[1;33m)\u001b[0m\u001b[1;33m.\u001b[0m\u001b[0mloc\u001b[0m\u001b[1;33m[\u001b[0m\u001b[1;34m'release'\u001b[0m\u001b[1;33m]\u001b[0m\u001b[1;33m)\u001b[0m\u001b[1;33m)\u001b[0m\u001b[1;33m\u001b[0m\u001b[1;33m\u001b[0m\u001b[0m\n\u001b[0;32m      5\u001b[0m \u001b[0mprint\u001b[0m\u001b[1;33m(\u001b[0m\u001b[0mlen\u001b[0m\u001b[1;33m(\u001b[0m\u001b[1;33m(\u001b[0m\u001b[0mpatients\u001b[0m\u001b[1;33m.\u001b[0m\u001b[0mloc\u001b[0m\u001b[1;33m[\u001b[0m\u001b[1;36m11\u001b[0m\u001b[1;33m]\u001b[0m\u001b[1;33m)\u001b[0m\u001b[1;33m.\u001b[0m\u001b[0mloc\u001b[0m\u001b[1;33m[\u001b[0m\u001b[1;34m'key'\u001b[0m\u001b[1;33m]\u001b[0m\u001b[1;33m)\u001b[0m\u001b[1;33m)\u001b[0m\u001b[1;33m\u001b[0m\u001b[1;33m\u001b[0m\u001b[0m\n",
      "\u001b[1;32m~\\anaconda3\\envs\\tensorflow_gpu\\lib\\site-packages\\pandas\\core\\indexing.py\u001b[0m in \u001b[0;36m__getitem__\u001b[1;34m(self, key)\u001b[0m\n\u001b[0;32m    877\u001b[0m \u001b[1;33m\u001b[0m\u001b[0m\n\u001b[0;32m    878\u001b[0m             \u001b[0mmaybe_callable\u001b[0m \u001b[1;33m=\u001b[0m \u001b[0mcom\u001b[0m\u001b[1;33m.\u001b[0m\u001b[0mapply_if_callable\u001b[0m\u001b[1;33m(\u001b[0m\u001b[0mkey\u001b[0m\u001b[1;33m,\u001b[0m \u001b[0mself\u001b[0m\u001b[1;33m.\u001b[0m\u001b[0mobj\u001b[0m\u001b[1;33m)\u001b[0m\u001b[1;33m\u001b[0m\u001b[1;33m\u001b[0m\u001b[0m\n\u001b[1;32m--> 879\u001b[1;33m             \u001b[1;32mreturn\u001b[0m \u001b[0mself\u001b[0m\u001b[1;33m.\u001b[0m\u001b[0m_getitem_axis\u001b[0m\u001b[1;33m(\u001b[0m\u001b[0mmaybe_callable\u001b[0m\u001b[1;33m,\u001b[0m \u001b[0maxis\u001b[0m\u001b[1;33m=\u001b[0m\u001b[0maxis\u001b[0m\u001b[1;33m)\u001b[0m\u001b[1;33m\u001b[0m\u001b[1;33m\u001b[0m\u001b[0m\n\u001b[0m\u001b[0;32m    880\u001b[0m \u001b[1;33m\u001b[0m\u001b[0m\n\u001b[0;32m    881\u001b[0m     \u001b[1;32mdef\u001b[0m \u001b[0m_is_scalar_access\u001b[0m\u001b[1;33m(\u001b[0m\u001b[0mself\u001b[0m\u001b[1;33m,\u001b[0m \u001b[0mkey\u001b[0m\u001b[1;33m:\u001b[0m \u001b[0mTuple\u001b[0m\u001b[1;33m)\u001b[0m\u001b[1;33m:\u001b[0m\u001b[1;33m\u001b[0m\u001b[1;33m\u001b[0m\u001b[0m\n",
      "\u001b[1;32m~\\anaconda3\\envs\\tensorflow_gpu\\lib\\site-packages\\pandas\\core\\indexing.py\u001b[0m in \u001b[0;36m_getitem_axis\u001b[1;34m(self, key, axis)\u001b[0m\n\u001b[0;32m   1108\u001b[0m         \u001b[1;31m# fall thru to straight lookup\u001b[0m\u001b[1;33m\u001b[0m\u001b[1;33m\u001b[0m\u001b[1;33m\u001b[0m\u001b[0m\n\u001b[0;32m   1109\u001b[0m         \u001b[0mself\u001b[0m\u001b[1;33m.\u001b[0m\u001b[0m_validate_key\u001b[0m\u001b[1;33m(\u001b[0m\u001b[0mkey\u001b[0m\u001b[1;33m,\u001b[0m \u001b[0maxis\u001b[0m\u001b[1;33m)\u001b[0m\u001b[1;33m\u001b[0m\u001b[1;33m\u001b[0m\u001b[0m\n\u001b[1;32m-> 1110\u001b[1;33m         \u001b[1;32mreturn\u001b[0m \u001b[0mself\u001b[0m\u001b[1;33m.\u001b[0m\u001b[0m_get_label\u001b[0m\u001b[1;33m(\u001b[0m\u001b[0mkey\u001b[0m\u001b[1;33m,\u001b[0m \u001b[0maxis\u001b[0m\u001b[1;33m=\u001b[0m\u001b[0maxis\u001b[0m\u001b[1;33m)\u001b[0m\u001b[1;33m\u001b[0m\u001b[1;33m\u001b[0m\u001b[0m\n\u001b[0m\u001b[0;32m   1111\u001b[0m \u001b[1;33m\u001b[0m\u001b[0m\n\u001b[0;32m   1112\u001b[0m     \u001b[1;32mdef\u001b[0m \u001b[0m_get_slice_axis\u001b[0m\u001b[1;33m(\u001b[0m\u001b[0mself\u001b[0m\u001b[1;33m,\u001b[0m \u001b[0mslice_obj\u001b[0m\u001b[1;33m:\u001b[0m \u001b[0mslice\u001b[0m\u001b[1;33m,\u001b[0m \u001b[0maxis\u001b[0m\u001b[1;33m:\u001b[0m \u001b[0mint\u001b[0m\u001b[1;33m)\u001b[0m\u001b[1;33m:\u001b[0m\u001b[1;33m\u001b[0m\u001b[1;33m\u001b[0m\u001b[0m\n",
      "\u001b[1;32m~\\anaconda3\\envs\\tensorflow_gpu\\lib\\site-packages\\pandas\\core\\indexing.py\u001b[0m in \u001b[0;36m_get_label\u001b[1;34m(self, label, axis)\u001b[0m\n\u001b[0;32m   1057\u001b[0m     \u001b[1;32mdef\u001b[0m \u001b[0m_get_label\u001b[0m\u001b[1;33m(\u001b[0m\u001b[0mself\u001b[0m\u001b[1;33m,\u001b[0m \u001b[0mlabel\u001b[0m\u001b[1;33m,\u001b[0m \u001b[0maxis\u001b[0m\u001b[1;33m:\u001b[0m \u001b[0mint\u001b[0m\u001b[1;33m)\u001b[0m\u001b[1;33m:\u001b[0m\u001b[1;33m\u001b[0m\u001b[1;33m\u001b[0m\u001b[0m\n\u001b[0;32m   1058\u001b[0m         \u001b[1;31m# GH#5667 this will fail if the label is not present in the axis.\u001b[0m\u001b[1;33m\u001b[0m\u001b[1;33m\u001b[0m\u001b[1;33m\u001b[0m\u001b[0m\n\u001b[1;32m-> 1059\u001b[1;33m         \u001b[1;32mreturn\u001b[0m \u001b[0mself\u001b[0m\u001b[1;33m.\u001b[0m\u001b[0mobj\u001b[0m\u001b[1;33m.\u001b[0m\u001b[0mxs\u001b[0m\u001b[1;33m(\u001b[0m\u001b[0mlabel\u001b[0m\u001b[1;33m,\u001b[0m \u001b[0maxis\u001b[0m\u001b[1;33m=\u001b[0m\u001b[0maxis\u001b[0m\u001b[1;33m)\u001b[0m\u001b[1;33m\u001b[0m\u001b[1;33m\u001b[0m\u001b[0m\n\u001b[0m\u001b[0;32m   1060\u001b[0m \u001b[1;33m\u001b[0m\u001b[0m\n\u001b[0;32m   1061\u001b[0m     \u001b[1;32mdef\u001b[0m \u001b[0m_handle_lowerdim_multi_index_axis0\u001b[0m\u001b[1;33m(\u001b[0m\u001b[0mself\u001b[0m\u001b[1;33m,\u001b[0m \u001b[0mtup\u001b[0m\u001b[1;33m:\u001b[0m \u001b[0mTuple\u001b[0m\u001b[1;33m)\u001b[0m\u001b[1;33m:\u001b[0m\u001b[1;33m\u001b[0m\u001b[1;33m\u001b[0m\u001b[0m\n",
      "\u001b[1;32m~\\anaconda3\\envs\\tensorflow_gpu\\lib\\site-packages\\pandas\\core\\generic.py\u001b[0m in \u001b[0;36mxs\u001b[1;34m(self, key, axis, level, drop_level)\u001b[0m\n\u001b[0;32m   3491\u001b[0m             \u001b[0mloc\u001b[0m\u001b[1;33m,\u001b[0m \u001b[0mnew_index\u001b[0m \u001b[1;33m=\u001b[0m \u001b[0mself\u001b[0m\u001b[1;33m.\u001b[0m\u001b[0mindex\u001b[0m\u001b[1;33m.\u001b[0m\u001b[0mget_loc_level\u001b[0m\u001b[1;33m(\u001b[0m\u001b[0mkey\u001b[0m\u001b[1;33m,\u001b[0m \u001b[0mdrop_level\u001b[0m\u001b[1;33m=\u001b[0m\u001b[0mdrop_level\u001b[0m\u001b[1;33m)\u001b[0m\u001b[1;33m\u001b[0m\u001b[1;33m\u001b[0m\u001b[0m\n\u001b[0;32m   3492\u001b[0m         \u001b[1;32melse\u001b[0m\u001b[1;33m:\u001b[0m\u001b[1;33m\u001b[0m\u001b[1;33m\u001b[0m\u001b[0m\n\u001b[1;32m-> 3493\u001b[1;33m             \u001b[0mloc\u001b[0m \u001b[1;33m=\u001b[0m \u001b[0mself\u001b[0m\u001b[1;33m.\u001b[0m\u001b[0mindex\u001b[0m\u001b[1;33m.\u001b[0m\u001b[0mget_loc\u001b[0m\u001b[1;33m(\u001b[0m\u001b[0mkey\u001b[0m\u001b[1;33m)\u001b[0m\u001b[1;33m\u001b[0m\u001b[1;33m\u001b[0m\u001b[0m\n\u001b[0m\u001b[0;32m   3494\u001b[0m \u001b[1;33m\u001b[0m\u001b[0m\n\u001b[0;32m   3495\u001b[0m             \u001b[1;32mif\u001b[0m \u001b[0misinstance\u001b[0m\u001b[1;33m(\u001b[0m\u001b[0mloc\u001b[0m\u001b[1;33m,\u001b[0m \u001b[0mnp\u001b[0m\u001b[1;33m.\u001b[0m\u001b[0mndarray\u001b[0m\u001b[1;33m)\u001b[0m\u001b[1;33m:\u001b[0m\u001b[1;33m\u001b[0m\u001b[1;33m\u001b[0m\u001b[0m\n",
      "\u001b[1;32m~\\anaconda3\\envs\\tensorflow_gpu\\lib\\site-packages\\pandas\\core\\indexes\\base.py\u001b[0m in \u001b[0;36mget_loc\u001b[1;34m(self, key, method, tolerance)\u001b[0m\n\u001b[0;32m   2898\u001b[0m                 \u001b[1;32mreturn\u001b[0m \u001b[0mself\u001b[0m\u001b[1;33m.\u001b[0m\u001b[0m_engine\u001b[0m\u001b[1;33m.\u001b[0m\u001b[0mget_loc\u001b[0m\u001b[1;33m(\u001b[0m\u001b[0mcasted_key\u001b[0m\u001b[1;33m)\u001b[0m\u001b[1;33m\u001b[0m\u001b[1;33m\u001b[0m\u001b[0m\n\u001b[0;32m   2899\u001b[0m             \u001b[1;32mexcept\u001b[0m \u001b[0mKeyError\u001b[0m \u001b[1;32mas\u001b[0m \u001b[0merr\u001b[0m\u001b[1;33m:\u001b[0m\u001b[1;33m\u001b[0m\u001b[1;33m\u001b[0m\u001b[0m\n\u001b[1;32m-> 2900\u001b[1;33m                 \u001b[1;32mraise\u001b[0m \u001b[0mKeyError\u001b[0m\u001b[1;33m(\u001b[0m\u001b[0mkey\u001b[0m\u001b[1;33m)\u001b[0m \u001b[1;32mfrom\u001b[0m \u001b[0merr\u001b[0m\u001b[1;33m\u001b[0m\u001b[1;33m\u001b[0m\u001b[0m\n\u001b[0m\u001b[0;32m   2901\u001b[0m \u001b[1;33m\u001b[0m\u001b[0m\n\u001b[0;32m   2902\u001b[0m         \u001b[1;32mif\u001b[0m \u001b[0mtolerance\u001b[0m \u001b[1;32mis\u001b[0m \u001b[1;32mnot\u001b[0m \u001b[1;32mNone\u001b[0m\u001b[1;33m:\u001b[0m\u001b[1;33m\u001b[0m\u001b[1;33m\u001b[0m\u001b[0m\n",
      "\u001b[1;31mKeyError\u001b[0m: 11"
     ]
    }
   ],
   "source": [
    "print((patients.loc[11]).loc['hold'])\n",
    "print(len((patients.loc[11]).loc['hold']))\n",
    "print(len((patients.loc[11]).loc['press']))\n",
    "print(len((patients.loc[11]).loc['release']))\n",
    "print(len((patients.loc[11]).loc['key']))\n",
    "\n",
    "print(type(patients.loc[11]))\n",
    "\n",
    "patients.head()\n",
    "patients[0:300]"
   ]
  },
  {
   "cell_type": "code",
   "execution_count": 10,
   "metadata": {},
   "outputs": [
    {
     "ename": "KeyError",
     "evalue": "'release'",
     "output_type": "error",
     "traceback": [
      "\u001b[1;31m---------------------------------------------------------------------------\u001b[0m",
      "\u001b[1;31mKeyError\u001b[0m                                  Traceback (most recent call last)",
      "\u001b[1;32m~\\anaconda3\\envs\\tensorflow_gpu\\lib\\site-packages\\pandas\\core\\indexes\\base.py\u001b[0m in \u001b[0;36mget_loc\u001b[1;34m(self, key, method, tolerance)\u001b[0m\n\u001b[0;32m   2897\u001b[0m             \u001b[1;32mtry\u001b[0m\u001b[1;33m:\u001b[0m\u001b[1;33m\u001b[0m\u001b[1;33m\u001b[0m\u001b[0m\n\u001b[1;32m-> 2898\u001b[1;33m                 \u001b[1;32mreturn\u001b[0m \u001b[0mself\u001b[0m\u001b[1;33m.\u001b[0m\u001b[0m_engine\u001b[0m\u001b[1;33m.\u001b[0m\u001b[0mget_loc\u001b[0m\u001b[1;33m(\u001b[0m\u001b[0mcasted_key\u001b[0m\u001b[1;33m)\u001b[0m\u001b[1;33m\u001b[0m\u001b[1;33m\u001b[0m\u001b[0m\n\u001b[0m\u001b[0;32m   2899\u001b[0m             \u001b[1;32mexcept\u001b[0m \u001b[0mKeyError\u001b[0m \u001b[1;32mas\u001b[0m \u001b[0merr\u001b[0m\u001b[1;33m:\u001b[0m\u001b[1;33m\u001b[0m\u001b[1;33m\u001b[0m\u001b[0m\n",
      "\u001b[1;32mpandas\\_libs\\index.pyx\u001b[0m in \u001b[0;36mpandas._libs.index.IndexEngine.get_loc\u001b[1;34m()\u001b[0m\n",
      "\u001b[1;32mpandas\\_libs\\index.pyx\u001b[0m in \u001b[0;36mpandas._libs.index.IndexEngine.get_loc\u001b[1;34m()\u001b[0m\n",
      "\u001b[1;32mpandas\\_libs\\hashtable_class_helper.pxi\u001b[0m in \u001b[0;36mpandas._libs.hashtable.PyObjectHashTable.get_item\u001b[1;34m()\u001b[0m\n",
      "\u001b[1;32mpandas\\_libs\\hashtable_class_helper.pxi\u001b[0m in \u001b[0;36mpandas._libs.hashtable.PyObjectHashTable.get_item\u001b[1;34m()\u001b[0m\n",
      "\u001b[1;31mKeyError\u001b[0m: 'release'",
      "\nThe above exception was the direct cause of the following exception:\n",
      "\u001b[1;31mKeyError\u001b[0m                                  Traceback (most recent call last)",
      "\u001b[1;32m<ipython-input-10-fc5f32c21fbd>\u001b[0m in \u001b[0;36m<module>\u001b[1;34m\u001b[0m\n\u001b[1;32m----> 1\u001b[1;33m \u001b[0mprint\u001b[0m\u001b[1;33m(\u001b[0m\u001b[0mpatients\u001b[0m\u001b[1;33m[\u001b[0m\u001b[1;34m'release'\u001b[0m\u001b[1;33m]\u001b[0m\u001b[1;33m.\u001b[0m\u001b[0mshape\u001b[0m\u001b[1;33m[\u001b[0m\u001b[1;36m0\u001b[0m\u001b[1;33m]\u001b[0m\u001b[1;33m)\u001b[0m\u001b[1;33m\u001b[0m\u001b[1;33m\u001b[0m\u001b[0m\n\u001b[0m",
      "\u001b[1;32m~\\anaconda3\\envs\\tensorflow_gpu\\lib\\site-packages\\pandas\\core\\frame.py\u001b[0m in \u001b[0;36m__getitem__\u001b[1;34m(self, key)\u001b[0m\n\u001b[0;32m   2904\u001b[0m             \u001b[1;32mif\u001b[0m \u001b[0mself\u001b[0m\u001b[1;33m.\u001b[0m\u001b[0mcolumns\u001b[0m\u001b[1;33m.\u001b[0m\u001b[0mnlevels\u001b[0m \u001b[1;33m>\u001b[0m \u001b[1;36m1\u001b[0m\u001b[1;33m:\u001b[0m\u001b[1;33m\u001b[0m\u001b[1;33m\u001b[0m\u001b[0m\n\u001b[0;32m   2905\u001b[0m                 \u001b[1;32mreturn\u001b[0m \u001b[0mself\u001b[0m\u001b[1;33m.\u001b[0m\u001b[0m_getitem_multilevel\u001b[0m\u001b[1;33m(\u001b[0m\u001b[0mkey\u001b[0m\u001b[1;33m)\u001b[0m\u001b[1;33m\u001b[0m\u001b[1;33m\u001b[0m\u001b[0m\n\u001b[1;32m-> 2906\u001b[1;33m             \u001b[0mindexer\u001b[0m \u001b[1;33m=\u001b[0m \u001b[0mself\u001b[0m\u001b[1;33m.\u001b[0m\u001b[0mcolumns\u001b[0m\u001b[1;33m.\u001b[0m\u001b[0mget_loc\u001b[0m\u001b[1;33m(\u001b[0m\u001b[0mkey\u001b[0m\u001b[1;33m)\u001b[0m\u001b[1;33m\u001b[0m\u001b[1;33m\u001b[0m\u001b[0m\n\u001b[0m\u001b[0;32m   2907\u001b[0m             \u001b[1;32mif\u001b[0m \u001b[0mis_integer\u001b[0m\u001b[1;33m(\u001b[0m\u001b[0mindexer\u001b[0m\u001b[1;33m)\u001b[0m\u001b[1;33m:\u001b[0m\u001b[1;33m\u001b[0m\u001b[1;33m\u001b[0m\u001b[0m\n\u001b[0;32m   2908\u001b[0m                 \u001b[0mindexer\u001b[0m \u001b[1;33m=\u001b[0m \u001b[1;33m[\u001b[0m\u001b[0mindexer\u001b[0m\u001b[1;33m]\u001b[0m\u001b[1;33m\u001b[0m\u001b[1;33m\u001b[0m\u001b[0m\n",
      "\u001b[1;32m~\\anaconda3\\envs\\tensorflow_gpu\\lib\\site-packages\\pandas\\core\\indexes\\base.py\u001b[0m in \u001b[0;36mget_loc\u001b[1;34m(self, key, method, tolerance)\u001b[0m\n\u001b[0;32m   2898\u001b[0m                 \u001b[1;32mreturn\u001b[0m \u001b[0mself\u001b[0m\u001b[1;33m.\u001b[0m\u001b[0m_engine\u001b[0m\u001b[1;33m.\u001b[0m\u001b[0mget_loc\u001b[0m\u001b[1;33m(\u001b[0m\u001b[0mcasted_key\u001b[0m\u001b[1;33m)\u001b[0m\u001b[1;33m\u001b[0m\u001b[1;33m\u001b[0m\u001b[0m\n\u001b[0;32m   2899\u001b[0m             \u001b[1;32mexcept\u001b[0m \u001b[0mKeyError\u001b[0m \u001b[1;32mas\u001b[0m \u001b[0merr\u001b[0m\u001b[1;33m:\u001b[0m\u001b[1;33m\u001b[0m\u001b[1;33m\u001b[0m\u001b[0m\n\u001b[1;32m-> 2900\u001b[1;33m                 \u001b[1;32mraise\u001b[0m \u001b[0mKeyError\u001b[0m\u001b[1;33m(\u001b[0m\u001b[0mkey\u001b[0m\u001b[1;33m)\u001b[0m \u001b[1;32mfrom\u001b[0m \u001b[0merr\u001b[0m\u001b[1;33m\u001b[0m\u001b[1;33m\u001b[0m\u001b[0m\n\u001b[0m\u001b[0;32m   2901\u001b[0m \u001b[1;33m\u001b[0m\u001b[0m\n\u001b[0;32m   2902\u001b[0m         \u001b[1;32mif\u001b[0m \u001b[0mtolerance\u001b[0m \u001b[1;32mis\u001b[0m \u001b[1;32mnot\u001b[0m \u001b[1;32mNone\u001b[0m\u001b[1;33m:\u001b[0m\u001b[1;33m\u001b[0m\u001b[1;33m\u001b[0m\u001b[0m\n",
      "\u001b[1;31mKeyError\u001b[0m: 'release'"
     ]
    }
   ],
   "source": [
    "print(patients['release'].shape[0])"
   ]
  },
  {
   "cell_type": "markdown",
   "metadata": {},
   "source": [
    "### Encode all patients"
   ]
  },
  {
   "cell_type": "code",
   "execution_count": 27,
   "metadata": {
    "scrolled": true
   },
   "outputs": [
    {
     "data": {
      "text/plain": [
       "1747.0699"
      ]
     },
     "execution_count": 27,
     "metadata": {},
     "output_type": "execute_result"
    }
   ],
   "source": [
    "'''code here returns\n",
    "   the length of longest series (in seconds)\n",
    "'''\n",
    "# np.array(range(maxlen*freq)) / freq\n",
    "def find_max(array):\n",
    "    return array[-1]\n",
    "\n",
    "max(patients['release'].apply(lambda x: find_max(x)))  # biggest release time value is 1747 seconds"
   ]
  },
  {
   "cell_type": "code",
   "execution_count": 28,
   "metadata": {},
   "outputs": [
    {
     "name": "stdout",
     "output_type": "stream",
     "text": [
      "                                                   hold  label  \\\n",
      "id                                                               \n",
      "11    [0.1713, 0.1432, 0.0655, 0.1188, 0.0737, 0.065...   True   \n",
      "60    [0.0895, 0.0954, 0.1738, 0.1078, 0.166, 0.1361...  False   \n",
      "67    [0.1119, 0.1345, 0.3396, 0.1883, 0.1592, 0.134...   True   \n",
      "68    [0.1194, 0.1337, 0.1847, 0.1499, 0.2137, 0.164...  False   \n",
      "70    [0.1528, 0.208, 0.2084, 0.1539, 0.177, 0.2055,...   True   \n",
      "71    [0.1269, 0.1766, 0.1843, 0.1431, 0.1304, 0.165...   True   \n",
      "72    [0.1516, 0.2453, 0.1762, 0.1335, 0.2223, 0.188...   True   \n",
      "73    [0.0838, 0.0876, 0.0978, 0.0685, 0.0798, 0.093...   True   \n",
      "74    [0.0557, 0.0758, 0.0704, 0.0663, 0.1005, 0.131...   True   \n",
      "75    [0.1753, 0.1835, 0.1707, 0.1745, 0.1701, 0.165...   True   \n",
      "76    [0.1428, 0.2186, 0.1533, 0.1742, 0.1528, 0.155...  False   \n",
      "77    [0.0577, 0.066, 0.0654, 0.088, 0.0624, 0.065, ...  False   \n",
      "78    [0.1342, 0.1804, 0.2044, 0.11, 0.1915, 0.1529,...   True   \n",
      "79    [0.143, 0.128, 0.1128, 0.1311, 0.1004, 0.1077,...  False   \n",
      "80    [0.1342, 0.1258, 0.0939, 0.1569, 0.3552, 0.119...   True   \n",
      "81    [0.1441, 0.1045, 0.0895, 0.0874, 0.0712, 0.075...  False   \n",
      "82    [0.1233, 0.078, 0.0901, 0.0794, 0.1309, 0.0902...   True   \n",
      "83    [0.1048, 0.088, 0.1005, 0.0701, 0.1004, 0.0798...  False   \n",
      "84    [0.0803, 0.0725, 0.124, 0.1142, 0.0815, 0.0686...   True   \n",
      "85    [0.0713, 0.1311, 0.0792, 0.0651, 0.0658, 0.108...  False   \n",
      "86    [0.1366, 0.1065, 0.1074, 0.098, 0.0891, 0.0714...   True   \n",
      "87    [0.0906, 0.0726, 0.1019, 0.0639, 0.0803, 0.063...  False   \n",
      "88    [0.0633, 0.0753, 0.1626, 0.1112, 0.1417, 0.140...   True   \n",
      "89    [0.1792, 0.1546, 0.1283, 0.188, 0.1437, 0.1117...  False   \n",
      "92    [0.1584, 0.2889, 0.1568, 0.1222, 0.3048, 0.084...   True   \n",
      "93    [0.0888, 0.0947, 0.1346, 0.127, 0.1607, 0.0953...   True   \n",
      "94    [0.0823, 0.1657, 0.1174, 0.1037, 0.1727, 0.081...  False   \n",
      "95    [0.158, 0.0621, 0.1037, 0.0969, 0.1404, 0.1072...  False   \n",
      "97    [0.2817, 0.1244, 0.1983, 0.1436, 0.0597, 0.109...   True   \n",
      "98    [0.1759, 0.1583, 0.293, 0.1633, 0.1182, 0.2828...   True   \n",
      "...                                                 ...    ...   \n",
      "1029  [0.073, 0.0734, 0.0584, 0.0625, 0.0712, 0.093,...  False   \n",
      "1030  [0.0933, 0.1265, 0.1098, 0.0804, 0.1054, 0.180...  False   \n",
      "1031  [0.1353, 0.099, 0.1179, 0.0751, 0.1105, 0.0703...  False   \n",
      "1032  [0.0638, 0.11, 0.1146, 0.088, 0.0708, 0.0653, ...  False   \n",
      "1033  [0.237, 0.0607, 0.1674, 0.058, 0.0935, 0.0565,...  False   \n",
      "1034  [0.073, 0.0828, 0.1006, 0.0824, 0.0557, 0.0866...   True   \n",
      "1035  [0.0964, 0.0963, 0.0879, 0.149, 0.1106, 0.1078...  False   \n",
      "1037  [0.0596, 0.0924, 0.171, 0.0702, 0.1058, 0.1133...   True   \n",
      "1039  [0.0892, 0.0591, 0.0665, 0.094, 0.0619, 0.0871...  False   \n",
      "1041  [0.2195, 0.2326, 0.1748, 0.1544, 0.2424, 0.22,...   True   \n",
      "1042  [0.1494, 0.1281, 0.1263, 0.107, 0.0658, 0.1219...  False   \n",
      "1043  [0.0828, 0.0656, 0.0657, 0.066, 0.0626, 0.0915...  False   \n",
      "1045  [0.1311, 0.1301, 0.0829, 0.109, 0.0921, 0.092,...  False   \n",
      "1047  [0.2252, 0.1104, 0.1003, 0.1011, 0.1715, 0.101...   True   \n",
      "1049  [0.1112, 0.0983, 0.1204, 0.1073, 0.0897, 0.100...  False   \n",
      "1050  [0.0949, 0.1079, 0.0912, 0.0775, 0.0814, 0.076...  False   \n",
      "1051  [0.2584, 0.1783, 0.1469, 0.1827, 0.1996, 0.253...  False   \n",
      "1052  [0.1059, 0.1236, 0.0705, 0.2018, 0.1319, 0.268...   True   \n",
      "1053  [0.073, 0.1149, 0.1556, 0.1568, 0.1185, 0.157,...  False   \n",
      "1055  [0.2473, 0.2035, 0.245, 0.1773, 0.1653, 0.1676...  False   \n",
      "1056  [0.0601, 0.0819, 0.0837, 0.0883, 0.1061, 0.113...  False   \n",
      "1057  [0.1575, 0.1787, 0.1819, 0.1528, 0.1845, 0.157...  False   \n",
      "1059  [0.1297, 0.0997, 0.1728, 0.0768, 0.0466, 0.143...   True   \n",
      "1061  [0.1, 0.0856, 0.0988, 0.0986, 0.0712, 0.0909, ...  False   \n",
      "1062  [0.0514, 0.0358, 0.0455, 0.0511, 0.0633, 0.058...  False   \n",
      "1063  [0.0657, 0.17, 0.1631, 0.1302, 0.0647, 0.1262,...  False   \n",
      "1064  [0.1285, 0.1785, 0.1813, 0.1474, 0.2091, 0.155...   True   \n",
      "1066  [0.1074, 0.2225, 0.1763, 0.1483, 0.1325, 0.151...   True   \n",
      "1068  [0.267, 0.1814, 0.1664, 0.1925, 0.1543, 0.1411...   True   \n",
      "1070  [0.0843, 0.0695, 0.0467, 0.0689, 0.1526, 0.069...  False   \n",
      "\n",
      "                                                    key  \\\n",
      "id                                                        \n",
      "11    [a, b, i, a, space, u, n, a, space, v, e, a, s...   \n",
      "60    [d, e, l, space, e, n, f, a, d, o, space, l, e...   \n",
      "67    [f, u, e, space, r, e, c, o, g, i, d, o, space...   \n",
      "68    [n, t, e, r, o, comma, space, q, u, e, space, ...   \n",
      "70    [period, l, a, space, p, s, a, d, e, r, a, spa...   \n",
      "71    [u, n, space, a, b, u, e, l, o, space, y, spac...   \n",
      "72    [E, space, E, C, U, E, N, T, A, space, Q, U, E...   \n",
      "73    [u, e, space, n, o, space, t, e, n, e, i, s, s...   \n",
      "74    [u, e, n, t, a, space, Tab, u, e, space, h, a,...   \n",
      "75    [l, a, space, p, r, i, n, c, e, s, space, u, s...   \n",
      "76    [T, r, e, s, space, c, a, m, i, n, a, n, t, e,...   \n",
      "77    [space, f, r, a, i, l, e, space, t, e, n, i, a...   \n",
      "78    [space, m, a, e, s, t, r, o, space, o, t, r, o...   \n",
      "79    [r, space, d, e, l, space, p, u, e, b, l, o, s...   \n",
      "80    [Caps_Lock, u, n, a, space, n, o, c, h, e, spa...   \n",
      "81    [d, r, o, space, comma, space, v, e, t, e, spa...   \n",
      "82    [a, d, o, space, q, u, e, space, n, o, space, ...   \n",
      "83    [a, d, o, r, space, t, e, n, i, a, space, m, u...   \n",
      "84    [n, f, a, d, o, space, l, r, space, e, m, p, e...   \n",
      "85    [l, a, space, p, o, s, a, d, e, r, a, space, p...   \n",
      "86    [e, l, space, p, r, i, m, e, r, space, d, i, a...   \n",
      "87    [r, o, space, y, space, l, space, n, i, ntilde...   \n",
      "88    [l, l, e, g, a, r, o, n, space, a, space, u, n...   \n",
      "89    [space, i, b, a, space, c, a, m, i, n, a, n, d...   \n",
      "92    [s, a, l, i, r, space, s, d, e, l, space, p, u...   \n",
      "93    [o, t, o, r, space, m, a, e, s, t, r, o, space...   \n",
      "94    [e, s, t, o, space, e, r, a, space, u, j, n, a...   \n",
      "95    [q, u, e, space, v, i, e, j, o, space, t, a, n...   \n",
      "97    [e, l, space, a, b, u, e, l, p, r, i, m, e, r,...   \n",
      "98    [d, e, b, [65105], i, a, space, e, n, t, r, e,...   \n",
      "...                                                 ...   \n",
      "1029  [Left, Left, Left, Left, Left, i, c, a, r, spa...   \n",
      "1030  [n, a, s, space, p, e, r, o, s, n, a, space, s...   \n",
      "1031  [space, d, e, l, space, p, u, e, b, l, o, spac...   \n",
      "1032  [a, l, space, p, a, s, a, r, space, e, l, spac...   \n",
      "1033  [c, u, a, n, d, o, space, v, i, e, r, o, n, sp...   \n",
      "1034  [e, S, T, O, space, E, R, A, space, U, N, A, s...   \n",
      "1035  [space, n, i, e, t, o, space, s, a, l, i, e, r...   \n",
      "1037  [space, p, r, i, m, e, r, space, d, i, a, spac...   \n",
      "1039  [e, l, space, e, n, f, a, d, o, e, m, p, e, z,...   \n",
      "1041  [e, l, space, r, e, s, t, o, space, d, e, l, l...   \n",
      "1042  [l, space, p, r, i, m, e, r, space, d, [65105]...   \n",
      "1043  [a, l, space, p, a, s, a, r, space, p, o, r, s...   \n",
      "1045  [a, l, space, s, a, l, i, r, space, d, e, l, s...   \n",
      "1047  [e, l, space, p, r, i, m, e, r, space, d, i, a...   \n",
      "1049  [s, e, space, m, e, t, i, o, space, e, n, spac...   \n",
      "1050  [p, r, i, m, e, r, space, d, i, a, space, d, e...   \n",
      "1051  [y, a, s, i, i, b, a, n, space, h, a, c, i, e,...   \n",
      "1052  [a, l, space, s, a, l, i, r, space, e, l, spac...   \n",
      "1053  [space, a, l, space, l, a, d, o, period, space...   \n",
      "1055  [l, space, p, r, i, m, e, r, space, d, i, a, s...   \n",
      "1056  [exclamdown, P, a, r, e, c, e, space, m, e, n,...   \n",
      "1057  [space, r, t, o, s, space, l, e, a, b, u, e, l...   \n",
      "1059  [A, c, e, r, c, a, t, e, space, a, space, l, a...   \n",
      "1061  [a, l, space, v, i, e, j, o, space, s, o, b, r...   \n",
      "1062  [E, l, space, p, r, i, m, e, r, space, d, [651...   \n",
      "1063  [l, a, space, e, n, t, o, n, c, e, s, space, l...   \n",
      "1064  [b, r, e, space, e, l, space, b, u, r, r, o, s...   \n",
      "1066  [P, a, r, e, c, e, space, m, e, n, t, i, r, a,...   \n",
      "1068  [s, u, s, space, p, a, d, r, e, s, comma, l, o...   \n",
      "1070  [E, l, space, p, r, i, m, e, r, space, d, i, a...   \n",
      "\n",
      "                                                  press  \\\n",
      "id                                                        \n",
      "11    [2.4568, 2.7748, 2.9139, 3.0805, 3.1564, 3.435...   \n",
      "60    [2.6084, 2.8721, 3.9054, 5.2092, 5.893, 6.3525...   \n",
      "67    [1.3361, 1.9241, 2.6734, 3.1709, 3.6996, 4.082...   \n",
      "68    [1.8314, 2.4218, 2.8949, 3.2413, 3.9616, 6.467...   \n",
      "70    [0.6356, 6.0042, 6.4526, 8.0744, 9.0555, 9.484...   \n",
      "71    [1.308, 1.5909, 1.8954, 2.3344, 2.8288, 3.1587...   \n",
      "72    [1.4668, 1.8193, 2.2541, 4.2651, 5.08, 5.2977,...   \n",
      "73    [0.2505, 0.4371, 0.6232, 0.9025, 1.1972, 1.458...   \n",
      "74    [0.1715, 0.2981, 0.4474, 0.8055, 0.9505, 1.160...   \n",
      "75    [1.2548, 1.3113, 1.5264, 1.8059, 1.9761, 2.165...   \n",
      "76    [0.7845, 1.0934, 1.2994, 1.4137, 1.569, 1.7172...   \n",
      "77    [0.1508, 1.3536, 1.559, 1.7658, 2.5576, 2.866,...   \n",
      "78    [0.2213, 0.6849, 0.9874, 1.5531, 1.8807, 2.529...   \n",
      "79    [0.4582, 1.5035, 3.6282, 3.8268, 4.3188, 4.600...   \n",
      "80    [3.0166, 3.7245, 4.0889, 4.3821, 5.1571, 6.229...   \n",
      "81    [0.5398, 0.8291, 2.2558, 3.9252, 6.9105, 7.185...   \n",
      "82    [0.6806, 4.9737, 6.0674, 7.7885, 9.8031, 11.20...   \n",
      "83    [0.1381, 0.3345, 0.6634, 0.8422, 1.5668, 2.511...   \n",
      "84    [0.2103, 0.5483, 0.6782, 1.0077, 5.3557, 7.966...   \n",
      "85    [11.3599, 11.5725, 11.7693, 12.1831, 12.3764, ...   \n",
      "86    [2.9667, 3.2627, 3.5711, 4.1914, 4.5352, 4.785...   \n",
      "87    [0.1668, 0.4052, 1.5435, 2.4299, 2.7053, 3.219...   \n",
      "88    [6.2375, 6.3595, 6.5028, 6.9335, 7.2389, 7.488...   \n",
      "89    [0.4776, 2.5516, 2.8089, 3.0861, 3.7805, 4.166...   \n",
      "92    [0.6099, 1.9782, 2.4689, 2.7679, 3.8042, 4.190...   \n",
      "93    [1.1558, 1.3288, 1.4781, 1.521, 2.076, 2.8607,...   \n",
      "94    [1.5187, 1.7452, 2.1364, 2.5167, 2.7471, 4.098...   \n",
      "95    [0.3723, 0.5257, 0.6148, 0.8034, 1.2167, 1.425...   \n",
      "97    [7.0265, 8.5199, 9.1637, 9.668, 10.1377, 10.35...   \n",
      "98    [0.8277, 1.3563, 8.1551, 11.751, 12.3977, 12.8...   \n",
      "...                                                 ...   \n",
      "1029  [4.7605, 4.9444, 5.1278, 5.2975, 5.4688, 6.745...   \n",
      "1030  [0.2246, 0.3606, 0.4267, 0.5223, 19.1913, 19.2...   \n",
      "1031  [0.2248, 4.0644, 4.2618, 4.367, 4.5717, 4.8614...   \n",
      "1032  [0.0678, 0.1994, 0.9001, 1.3087, 1.4496, 1.625...   \n",
      "1033  [0.1757, 0.4887, 0.846, 1.0811, 1.3535, 1.6139...   \n",
      "1034  [0.8742, 1.2668, 1.6951, 2.3955, 2.8732, 2.924...   \n",
      "1035  [0.0757, 0.3476, 0.673, 1.2102, 1.6351, 2.2202...   \n",
      "1037  [0.5692, 1.0781, 1.4809, 1.8135, 2.0935, 2.318...   \n",
      "1039  [4.1914, 4.3213, 4.592, 5.2696, 5.3867, 5.5211...   \n",
      "1041  [4.9933, 6.9684, 8.4051, 10.4162, 10.7795, 12....   \n",
      "1042  [1.6881, 1.8919, 1.9855, 2.1503, 2.2754, 2.414...   \n",
      "1043  [1.3842, 1.5864, 3.871, 4.4676, 4.8828, 5.226,...   \n",
      "1045  [2.5827, 2.7361, 3.0269, 3.3714, 3.5224, 3.708...   \n",
      "1047  [0.5198, 1.5529, 1.9498, 3.9369, 5.2059, 6.057...   \n",
      "1049  [7.8806, 8.1286, 8.569, 9.2313, 9.4829, 9.7789...   \n",
      "1050  [0.6937, 1.6851, 2.0119, 2.7068, 3.3069, 3.856...   \n",
      "1051  [19.1082, 19.9547, 24.6504, 25.8312, 36.167, 3...   \n",
      "1052  [0.7586, 0.9168, 1.5668, 1.7362, 1.9782, 2.127...   \n",
      "1053  [3.2573, 4.1958, 4.738, 5.1815, 5.6479, 6.057,...   \n",
      "1055  [1.3131, 4.0155, 6.6343, 14.8362, 16.2027, 17....   \n",
      "1056  [1.4114, 1.8624, 2.2373, 2.386, 2.4875, 2.6203...   \n",
      "1057  [0.0978, 5.1787, 8.2676, 8.6746, 10.0654, 19.3...   \n",
      "1059  [1.0013, 1.4215, 1.688, 1.9799, 2.2414, 2.525,...   \n",
      "1061  [0.4347, 0.7549, 1.0469, 2.4972, 2.6936, 3.17,...   \n",
      "1062  [0.4555, 1.2338, 1.457, 1.9076, 2.323, 2.7901,...   \n",
      "1063  [0.7179, 1.2468, 1.4031, 9.3649, 9.579, 9.8285...   \n",
      "1064  [0.0981, 0.6178, 0.8254, 1.0394, 1.3366, 1.491...   \n",
      "1066  [9.3191, 9.8011, 10.1514, 10.3963, 10.7206, 10...   \n",
      "1068  [4.222, 4.989, 5.9759, 6.8803, 8.5011, 9.3187,...   \n",
      "1070  [0.6599, 1.5744, 2.5176, 4.6135, 5.147, 6.2673...   \n",
      "\n",
      "                                                release  \n",
      "id                                                       \n",
      "11    [2.6281, 2.918, 2.9794, 3.1992, 3.2301, 3.5004...  \n",
      "60    [2.6979, 2.9675, 4.0792, 5.317, 6.0589, 6.4886...  \n",
      "67    [1.4481, 2.0585, 3.0129, 3.3591, 3.8588, 4.217...  \n",
      "68    [1.9508, 2.5555, 3.0796, 3.3912, 4.1754, 6.631...  \n",
      "70    [0.7884, 6.2122, 6.661, 8.2283, 9.2325, 9.6897...  \n",
      "71    [1.435, 1.7675, 2.0797, 2.4775, 2.9592, 3.3243...  \n",
      "72    [1.6184, 2.0646, 2.4303, 4.3986, 5.3022, 5.486...  \n",
      "73    [0.3343, 0.5247, 0.721, 0.971, 1.2771, 1.5517,...  \n",
      "74    [0.2271, 0.3739, 0.5179, 0.8719, 1.051, 1.292,...  \n",
      "75    [1.4301, 1.4948, 1.6971, 1.9804, 2.1462, 2.330...  \n",
      "76    [0.9273, 1.312, 1.4526, 1.5879, 1.7218, 1.8728...  \n",
      "77    [0.2085, 1.4196, 1.6244, 1.8538, 2.62, 2.931, ...  \n",
      "78    [0.3554, 0.8653, 1.1917, 1.6631, 2.0722, 2.682...  \n",
      "79    [0.6012, 1.6315, 3.741, 3.9579, 4.4192, 4.7085...  \n",
      "80    [3.1508, 3.8503, 4.1828, 4.5389, 5.5123, 6.349...  \n",
      "81    [0.6839, 0.9336, 2.3453, 4.0126, 6.9817, 7.260...  \n",
      "82    [0.8039, 5.0518, 6.1574, 7.8679, 9.934, 11.293...  \n",
      "83    [0.2429, 0.4225, 0.7639, 0.9123, 1.6672, 2.590...  \n",
      "84    [0.2906, 0.6207, 0.8021, 1.1219, 5.4372, 8.035...  \n",
      "85    [11.4312, 11.7036, 11.8486, 12.2482, 12.4422, ...  \n",
      "86    [3.1033, 3.3693, 3.6785, 4.2894, 4.6243, 4.856...  \n",
      "87    [0.2574, 0.4778, 1.6454, 2.4938, 2.7856, 3.283...  \n",
      "88    [6.3007, 6.4348, 6.6653, 7.0447, 7.3807, 7.629...  \n",
      "89    [0.6568, 2.7062, 2.9371, 3.274, 3.9242, 4.2777...  \n",
      "92    [0.7684, 2.2671, 2.6257, 2.89, 4.109, 4.2746, ...  \n",
      "93    [1.2446, 1.4236, 1.6128, 1.648, 2.2367, 2.956,...  \n",
      "94    [1.601, 1.9108, 2.2538, 2.6204, 2.9198, 4.1802...  \n",
      "95    [0.5302, 0.5878, 0.7185, 0.9003, 1.3571, 1.532...  \n",
      "97    [7.3082, 8.6443, 9.362, 9.8116, 10.1974, 10.46...  \n",
      "98    [1.0036, 1.5146, 8.4481, 11.9144, 12.5159, 13....  \n",
      "...                                                 ...  \n",
      "1029  [4.8335, 5.0178, 5.1863, 5.36, 5.5401, 6.8386,...  \n",
      "1030  [0.318, 0.487, 0.5364, 0.6026, 19.2967, 19.451...  \n",
      "1031  [0.3601, 4.1635, 4.3797, 4.442, 4.6822, 4.9318...  \n",
      "1032  [0.1316, 0.3094, 1.0147, 1.3967, 1.5204, 1.690...  \n",
      "1033  [0.4127, 0.5494, 1.0134, 1.1391, 1.447, 1.6704...  \n",
      "1034  [0.9472, 1.3496, 1.7957, 2.4779, 2.929, 3.0113...  \n",
      "1035  [0.1722, 0.4439, 0.761, 1.3592, 1.7457, 2.3279...  \n",
      "1037  [0.6288, 1.1704, 1.6518, 1.8837, 2.1994, 2.431...  \n",
      "1039  [4.2806, 4.3803, 4.6585, 5.3635, 5.4486, 5.608...  \n",
      "1041  [5.2128, 7.201, 8.5799, 10.5706, 11.0219, 12.4...  \n",
      "1042  [1.8375, 2.02, 2.1118, 2.2574, 2.3412, 2.536, ...  \n",
      "1043  [1.467, 1.6521, 3.9368, 4.5336, 4.9454, 5.3175...  \n",
      "1045  [2.7138, 2.8663, 3.1098, 3.4804, 3.6145, 3.800...  \n",
      "1047  [0.745, 1.6633, 2.0502, 4.038, 5.3774, 6.1584,...  \n",
      "1049  [7.9918, 8.2269, 8.6894, 9.3386, 9.5726, 9.879...  \n",
      "1050  [0.7885, 1.793, 2.1031, 2.7843, 3.3883, 3.9323...  \n",
      "1051  [19.3666, 20.133, 24.7973, 26.0139, 36.3666, 3...  \n",
      "1052  [0.8645, 1.0404, 1.6373, 1.938, 2.1101, 2.3958...  \n",
      "1053  [3.3303, 4.3107, 4.8936, 5.3383, 5.7663, 6.214...  \n",
      "1055  [1.5604, 4.219, 6.8793, 15.0135, 16.368, 18.14...  \n",
      "1056  [1.4715, 1.9443, 2.3209, 2.4743, 2.5935, 2.734...  \n",
      "1057  [0.2553, 5.3574, 8.4495, 8.8274, 10.2499, 19.4...  \n",
      "1059  [1.1309, 1.5212, 1.8608, 2.0567, 2.288, 2.6684...  \n",
      "1061  [0.5346, 0.8405, 1.1457, 2.5957, 2.7648, 3.260...  \n",
      "1062  [0.5069, 1.2696, 1.5024, 1.9587, 2.3863, 2.848...  \n",
      "1063  [0.7836, 1.4169, 1.5661, 9.4951, 9.6437, 9.954...  \n",
      "1064  [0.2266, 0.7963, 1.0067, 1.1868, 1.5457, 1.646...  \n",
      "1066  [9.4265, 10.0235, 10.3277, 10.5446, 10.853, 11...  \n",
      "1068  [4.489, 5.1704, 6.1423, 7.0728, 8.6554, 9.4597...  \n",
      "1070  [0.7442, 1.6439, 2.5643, 4.6824, 5.2996, 6.336...  \n",
      "\n",
      "[85 rows x 5 columns]\n"
     ]
    },
    {
     "data": {
      "text/plain": [
       "id\n",
       "11       730.7326\n",
       "60       903.2786\n",
       "67       902.4525\n",
       "68       897.5337\n",
       "70       901.2972\n",
       "71       720.5180\n",
       "72       848.0759\n",
       "73       716.2502\n",
       "74       783.8720\n",
       "75       735.8263\n",
       "76       720.0517\n",
       "77       836.5960\n",
       "78       832.9249\n",
       "79       772.9013\n",
       "80       900.4417\n",
       "81       914.4028\n",
       "82       899.7408\n",
       "83       720.4259\n",
       "84       719.7033\n",
       "85       719.0572\n",
       "86       719.6321\n",
       "87       720.3401\n",
       "88      1369.5555\n",
       "89       719.2559\n",
       "92       779.0234\n",
       "93       736.5128\n",
       "94       724.0572\n",
       "95       732.1182\n",
       "97       719.3741\n",
       "98       954.9213\n",
       "          ...    \n",
       "1029    1058.5370\n",
       "1030     749.5397\n",
       "1031     898.9592\n",
       "1032     754.2737\n",
       "1033     834.4995\n",
       "1034     563.7208\n",
       "1035    1492.2200\n",
       "1037    1626.0199\n",
       "1039     970.6623\n",
       "1041     985.6684\n",
       "1042     813.9858\n",
       "1043    1036.4644\n",
       "1045     789.2853\n",
       "1047    1747.0699\n",
       "1049     792.4535\n",
       "1050     967.0875\n",
       "1051    1059.8161\n",
       "1052     724.9399\n",
       "1053     981.0264\n",
       "1055    1095.0365\n",
       "1056     719.4929\n",
       "1057    1041.6551\n",
       "1059    1076.0264\n",
       "1061     638.0487\n",
       "1062     786.2322\n",
       "1063     833.9803\n",
       "1064     744.0546\n",
       "1066     727.6565\n",
       "1068     916.4912\n",
       "1070     900.1311\n",
       "Name: release, Length: 85, dtype: float64"
      ]
     },
     "execution_count": 28,
     "metadata": {},
     "output_type": "execute_result"
    }
   ],
   "source": [
    "print(patients)\n",
    "patients['release'].apply(lambda x: find_max(x))"
   ]
  },
  {
   "cell_type": "code",
   "execution_count": 29,
   "metadata": {},
   "outputs": [
    {
     "name": "stdout",
     "output_type": "stream",
     "text": [
      "[0.00000e+00 1.00000e-02 2.00000e-02 ... 1.74997e+03 1.74998e+03\n",
      " 1.74999e+03]\n"
     ]
    }
   ],
   "source": [
    "frequency = 100  # Hz\n",
    "maxlen = 1750  # this is now standard length for all the files (in seconds)\n",
    "timestep = np.arange(start=0, stop=maxlen, step=np.float(1.0/frequency))\n",
    "print(timestep)\n"
   ]
  },
  {
   "cell_type": "code",
   "execution_count": 31,
   "metadata": {
    "scrolled": false
   },
   "outputs": [],
   "source": [
    "# maxlen = 1750  # this is now standard length for all the files (in seconds)\n",
    "# timestep = np.arange(start=0, stop=maxlen, step=np.float(1.0/frequency))\n",
    "\n",
    "def encode(patient, freq=frequency):\n",
    "    n_decimals = int(np.log10(freq))\n",
    "    timestep = np.arange(start=0, stop=int(patient['release'][-1]), step=np.float(1.0/frequency))\n",
    "#     print(timestep)\n",
    "#     print(len(timestep))\n",
    "    sample = np.zeros((timestep.shape[0], 1))\n",
    " \n",
    "    patient['press'] = np.round_(patient['press'], decimals=n_decimals)\n",
    "    patient['hold'] = np.round_(patient['hold'], decimals=n_decimals)\n",
    "    patient['release'] = np.round_(patient['release'], decimals=n_decimals)\n",
    "#     print(patient)\n",
    "\n",
    "    \n",
    "    for idx in range(patient['hold'].shape[0]):\n",
    "        start = patient['press'][idx]\n",
    "        finish = patient['release'][idx]\n",
    "        \n",
    "        size_of_insert = int(np.round_((finish - start) * freq, decimals=n_decimals))\n",
    "#         print(size_of_insert)\n",
    "        start_id = int(start * (10 ** n_decimals))\n",
    "#         print(start_id)\n",
    "        \n",
    "        try:\n",
    "            sample[start_id: start_id + size_of_insert] = np.ones((size_of_insert, 1))\n",
    "#             print(sample)\n",
    "\n",
    "        except:\n",
    "            sample = np.concatenate((sample, np.zeros((start_id + size_of_insert - sample.shape[0], 1))))\n",
    "            sample[start_id: start_id + size_of_insert] = np.ones((size_of_insert, 1))\n",
    "    return {'encoded': sample, 'label': patient['label']}\n",
    "\n",
    "def enc_table(table):\n",
    "    \n",
    "    return table.apply(lambda x: encode(x), axis=1)\n",
    "\n",
    "# patients['encoded'] = patients.apply(lambda x: encode(x), axis=1)\n",
    "# a = patients['encoded']\n",
    "\n",
    "# print(a)\n",
    "# print(patients['label'])\n",
    "# print(patients)\n",
    "\n",
    "# print(enc_table(patients))\n",
    "\n",
    "X_train = pd.DataFrame(enc_table(patients))\n",
    "\n",
    "\n",
    "# print(X_train)\n",
    "# # print(X_train.loc[11])\n",
    "# # print(type(X_train.loc[11]))\n",
    "\n",
    "                  \n",
    "X_train = X_train[0].apply(pd.Series)\n",
    "X_train['label'] = X_train['label'].astype(int)"
   ]
  },
  {
   "cell_type": "code",
   "execution_count": 32,
   "metadata": {},
   "outputs": [
    {
     "name": "stdout",
     "output_type": "stream",
     "text": [
      "(85, 2)\n",
      "                                              encoded  label\n",
      "id                                                          \n",
      "11  [[0.0], [0.0], [0.0], [0.0], [0.0], [0.0], [0....      1\n",
      "60  [[0.0], [0.0], [0.0], [0.0], [0.0], [0.0], [0....      0\n",
      "67  [[0.0], [0.0], [0.0], [0.0], [0.0], [0.0], [0....      1\n",
      "68  [[0.0], [0.0], [0.0], [0.0], [0.0], [0.0], [0....      0\n",
      "70  [[0.0], [0.0], [0.0], [0.0], [0.0], [0.0], [0....      1\n",
      "[[0.]\n",
      " [0.]\n",
      " [0.]\n",
      " ...\n",
      " [1.]\n",
      " [1.]\n",
      " [1.]]\n",
      "78387\n"
     ]
    }
   ],
   "source": [
    "print(X_train.shape)\n",
    "X_train.head()\n",
    "print(X_train.head())\n",
    "X_train\n",
    "print(X_train['encoded'][74])\n",
    "print(len(X_train['encoded'][74]))\n",
    "# print(len(X_train['encoded'][60]))"
   ]
  },
  {
   "cell_type": "code",
   "execution_count": 33,
   "metadata": {},
   "outputs": [
    {
     "data": {
      "image/png": "[encoded data removed]",
      "text/plain": [
       "<Figure size 432x288 with 1 Axes>"
      ]
     },
     "metadata": {
      "needs_background": "light"
     },
     "output_type": "display_data"
    }
   ],
   "source": [
    "plt.plot(X_train['encoded'].iloc[0])\n",
    "# np.log10(frequency)\n",
    "plt.xlim((0, 100))\n",
    "plt.show()"
   ]
  },
  {
   "cell_type": "code",
   "execution_count": 34,
   "metadata": {},
   "outputs": [
    {
     "name": "stdout",
     "output_type": "stream",
     "text": [
      "90328\n"
     ]
    }
   ],
   "source": [
    "X_train['encoded'].iloc[8]\n",
    "print(len(X_train['encoded'].iloc[1]))"
   ]
  },
  {
   "cell_type": "markdown",
   "metadata": {},
   "source": [
    "### Chunk time series"
   ]
  },
  {
   "cell_type": "code",
   "execution_count": 64,
   "metadata": {},
   "outputs": [],
   "source": [
    "def chunk_one_patient(series, size, overlap):\n",
    "    arr = np.array(chunk_array(series['encoded'], size, overlap))\n",
    "    target = np.array([series['label'] for i in range(arr.shape[0])])\n",
    "    return [arr, target]\n",
    "\n",
    "def chunk_array(array, size, overlap):\n",
    "#     print(array.shape)\n",
    "    gen = gen_split_overlap(array, size, overlap)\n",
    "    \n",
    "    result = []\n",
    "    for arr in gen:\n",
    "        # if it's the last arr add zeros (if it's 0.7 of size)\n",
    "        if arr.shape[0] != size:\n",
    "            if np.float(arr.shape[0]) / np.float(size) >= 0.7:\n",
    "                arr = np.concatenate((arr, np.zeros((size - arr.shape[0], 1))))\n",
    "            else:\n",
    "                continue\n",
    "        \n",
    "        result.append(arr)\n",
    "#         print(arr.shape)\n",
    "    return result\n",
    "    \n",
    "\n",
    "def gen_split_overlap(seq, size, overlap):\n",
    "    if size < 1 or overlap < 0:\n",
    "        raise ValueError('size must be >= 1 and overlap >= 0')\n",
    "\n",
    "    for i in range(0, len(seq) - overlap, size - overlap):            \n",
    "        yield seq[i: i + size]"
   ]
  },
  {
   "cell_type": "code",
   "execution_count": 85,
   "metadata": {},
   "outputs": [
    {
     "name": "stdout",
     "output_type": "stream",
     "text": [
      "867\n"
     ]
    }
   ],
   "source": [
    "chunk_size = 200  # number of data points in one chunk\n",
    "overlap = 0.4     # overlapping between chunks in percents of chunk_size\n",
    "overlap = int(overlap*chunk_size)\n",
    "\n",
    "# one_patient = chunk_one_patient(X_train.iloc[0], chunk_size, overlap)\n",
    "# one_patient = one_patient.transpose()\n",
    "# one_patient.rename(columns={0: \"data\", 1: \"part\", 2: 'row', 3: 'target'})\n",
    "\n",
    "res_df = pd.DataFrame()\n",
    "res_df = X_train.apply(lambda x: chunk_one_patient(x, chunk_size, overlap), axis=1)\n",
    "res_df = pd.DataFrame(res_df.apply(pd.Series))\n",
    "res_df = res_df.rename(columns={0: \"data\", 1: \"target\"})\n",
    "print(len(res_df['target'].iloc[76]))"
   ]
  },
  {
   "cell_type": "code",
   "execution_count": 84,
   "metadata": {},
   "outputs": [
    {
     "name": "stdout",
     "output_type": "stream",
     "text": [
      "('X_train shape', (61696, 200, 1))\n",
      "('Y_train shape', (61696,))\n",
      "867\n"
     ]
    }
   ],
   "source": [
    "# Concatenate rows all together\n",
    "train_set = np.array((0, 0, 0))\n",
    "target_set = np.array(0)\n",
    "\n",
    "def concat_train(row):\n",
    "    global train_set\n",
    "    try: \n",
    "        train_set.shape[0]\n",
    "        train_set = np.concatenate([train_set, row])\n",
    "    except:\n",
    "        train_set = row\n",
    "\n",
    "def concat_target(row):\n",
    "    global target_set\n",
    "    try: \n",
    "        target_set.shape[0]\n",
    "        target_set = np.concatenate([target_set, row])\n",
    "    except:\n",
    "        target_set = row\n",
    "\n",
    "        \n",
    "tmp = res_df['data'].apply(lambda x: concat_train(x))\n",
    "tmp = res_df['target'].apply(lambda x: concat_target(x))\n",
    "\n",
    "\n",
    "print('X_train shape', train_set.shape)\n",
    "print('Y_train shape', target_set.shape)\n",
    "print(len(res_df['target'].iloc[76]))"
   ]
  },
  {
   "cell_type": "markdown",
   "metadata": {},
   "source": [
    "### Split training and testing instances"
   ]
  },
  {
   "cell_type": "code",
   "execution_count": 87,
   "metadata": {},
   "outputs": [
    {
     "ename": "NameError",
     "evalue": "name 'Y_train' is not defined",
     "output_type": "error",
     "traceback": [
      "\u001b[0;31m---------------------------------------------------------------------------\u001b[0m",
      "\u001b[0;31mNameError\u001b[0m                                 Traceback (most recent call last)",
      "\u001b[0;32m<ipython-input-87-360a88d0af9c>\u001b[0m in \u001b[0;36m<module>\u001b[0;34m()\u001b[0m\n\u001b[0;32m----> 1\u001b[0;31m \u001b[0mX_train\u001b[0m\u001b[0;34m,\u001b[0m \u001b[0mX_test\u001b[0m\u001b[0;34m,\u001b[0m \u001b[0mY_train\u001b[0m\u001b[0;34m,\u001b[0m \u001b[0mY_test\u001b[0m \u001b[0;34m=\u001b[0m \u001b[0mtrain_test_split\u001b[0m\u001b[0;34m(\u001b[0m\u001b[0mX_train\u001b[0m\u001b[0;34m,\u001b[0m \u001b[0mY_train\u001b[0m\u001b[0;34m,\u001b[0m \u001b[0mtest_size\u001b[0m\u001b[0;34m=\u001b[0m\u001b[0;36m0.1\u001b[0m\u001b[0;34m,\u001b[0m \u001b[0mrandom_state\u001b[0m\u001b[0;34m=\u001b[0m\u001b[0;36m15\u001b[0m\u001b[0;34m)\u001b[0m\u001b[0;34m\u001b[0m\u001b[0m\n\u001b[0m",
      "\u001b[0;31mNameError\u001b[0m: name 'Y_train' is not defined"
     ]
    }
   ],
   "source": [
    "X_train, X_test, Y_train, Y_test = train_test_split(X_train, Y_train, test_size=0.1, random_state=15)"
   ]
  },
  {
   "cell_type": "code",
   "execution_count": 86,
   "metadata": {},
   "outputs": [
    {
     "name": "stdout",
     "output_type": "stream",
     "text": [
      "[1 1 1 ... 0 0 0]\n",
      "61696\n"
     ]
    }
   ],
   "source": [
    "target_set = target_set.astype(int)\n",
    "print(target_set)\n",
    "print(len(target_set))"
   ]
  },
  {
   "cell_type": "markdown",
   "metadata": {},
   "source": [
    "### Save data"
   ]
  },
  {
   "cell_type": "code",
   "execution_count": 28,
   "metadata": {},
   "outputs": [],
   "source": [
    "h5f = h5py.File('encoding_A_freq{freq}_chunks{size}.h5'.format(freq=frequency, size=chunk_size), 'w')\n",
    "h5f.create_dataset('train', data=train_set)\n",
    "h5f.create_dataset('target', data=target_set)\n",
    "h5f.close()"
   ]
  },
  {
   "cell_type": "code",
   "execution_count": null,
   "metadata": {},
   "outputs": [],
   "source": []
  }
 ],
 "metadata": {
  "kernelspec": {
   "display_name": "tensorflow_gpu",
   "language": "python",
   "name": "tensorflow_gpu"
  },
  "language_info": {
   "codemirror_mode": {
    "name": "ipython",
    "version": 3
   },
   "file_extension": ".py",
   "mimetype": "text/x-python",
   "name": "python",
   "nbconvert_exporter": "python",
   "pygments_lexer": "ipython3",
   "version": "3.6.12"
  }
 },
 "nbformat": 4,
 "nbformat_minor": 1
}
